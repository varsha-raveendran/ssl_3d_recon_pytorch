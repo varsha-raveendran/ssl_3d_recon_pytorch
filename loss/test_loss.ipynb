{
 "cells": [
  {
   "cell_type": "code",
   "execution_count": 1,
   "id": "c35eda18",
   "metadata": {},
   "outputs": [],
   "source": [
    "import os\n",
    "os.environ[\"KMP_DUPLICATE_LIB_OK\"]=\"TRUE\"\n",
    "import numpy as np\n",
    "import matplotlib as plt\n",
    "import torch"
   ]
  },
  {
   "cell_type": "code",
   "execution_count": 2,
   "id": "8fe8681f",
   "metadata": {},
   "outputs": [],
   "source": [
    "import loss_functions as lf"
   ]
  },
  {
   "cell_type": "code",
   "execution_count": 3,
   "id": "65686c5a",
   "metadata": {},
   "outputs": [
    {
     "data": {
      "text/plain": [
       "42"
      ]
     },
     "execution_count": 3,
     "metadata": {},
     "output_type": "execute_result"
    }
   ],
   "source": [
    "lf.test_loss()"
   ]
  },
  {
   "cell_type": "code",
   "execution_count": 4,
   "id": "55e1905f",
   "metadata": {},
   "outputs": [],
   "source": [
    "a = np.random.rand(2,2,2)\n",
    "b = np.random.rand(2,2,2)\n",
    "a = torch.tensor(a)\n",
    "b = torch.tensor(b)"
   ]
  },
  {
   "cell_type": "code",
   "execution_count": 5,
   "id": "5dd7e336",
   "metadata": {},
   "outputs": [
    {
     "ename": "ValueError",
     "evalue": "operands could not be broadcast together with shapes (2,2,2,64,64) (64,64,64,64) ",
     "output_type": "error",
     "traceback": [
      "\u001b[0;31m---------------------------------------------------------------------------\u001b[0m",
      "\u001b[0;31mValueError\u001b[0m                                Traceback (most recent call last)",
      "Input \u001b[0;32mIn [5]\u001b[0m, in \u001b[0;36m<cell line: 1>\u001b[0;34m()\u001b[0m\n\u001b[0;32m----> 1\u001b[0m \u001b[43mlf\u001b[49m\u001b[38;5;241;43m.\u001b[39;49m\u001b[43mget_img_loss\u001b[49m\u001b[43m(\u001b[49m\u001b[43ma\u001b[49m\u001b[43m,\u001b[49m\u001b[43m \u001b[49m\u001b[43mb\u001b[49m\u001b[43m,\u001b[49m\u001b[43m \u001b[49m\u001b[43mmode\u001b[49m\u001b[38;5;241;43m=\u001b[39;49m\u001b[38;5;124;43m'\u001b[39;49m\u001b[38;5;124;43ml2_sq\u001b[39;49m\u001b[38;5;124;43m'\u001b[39;49m\u001b[43m,\u001b[49m\u001b[43m \u001b[49m\u001b[43maffinity_loss\u001b[49m\u001b[38;5;241;43m=\u001b[39;49m\u001b[38;5;28;43;01mTrue\u001b[39;49;00m\u001b[43m)\u001b[49m\n",
      "File \u001b[0;32m~/ML3D/ssl_3d_recon_pytorch/loss/loss_functions.py:70\u001b[0m, in \u001b[0;36mget_img_loss\u001b[0;34m(gt, pred, mode, affinity_loss)\u001b[0m\n\u001b[1;32m     67\u001b[0m pred_white \u001b[38;5;241m=\u001b[39m pred_white\u001b[38;5;241m.\u001b[39mrepeat(\u001b[38;5;241m1\u001b[39m,\u001b[38;5;241m1\u001b[39m,\u001b[38;5;241m1\u001b[39m,grid_h,grid_w) \u001b[38;5;66;03m### Check tile function\u001b[39;00m\n\u001b[1;32m     69\u001b[0m gt_white_th \u001b[38;5;241m=\u001b[39m gt_white \u001b[38;5;241m+\u001b[39m (\u001b[38;5;241m1.\u001b[39m\u001b[38;5;241m-\u001b[39mgt_white)\u001b[38;5;241m*\u001b[39m\u001b[38;5;241m1e6\u001b[39m\u001b[38;5;241m*\u001b[39mtorch\u001b[38;5;241m.\u001b[39mones_like(gt_white)\n\u001b[0;32m---> 70\u001b[0m dist_masked \u001b[38;5;241m=\u001b[39m \u001b[43mgt_white_th\u001b[49m\u001b[43m \u001b[49m\u001b[38;5;241;43m*\u001b[39;49m\u001b[43m \u001b[49m\u001b[43mdist_mat\u001b[49m \u001b[38;5;241m*\u001b[39m pred_white\n\u001b[1;32m     72\u001b[0m pred_mask \u001b[38;5;241m=\u001b[39m (pred_white) \u001b[38;5;241m+\u001b[39m ((\u001b[38;5;241m1.\u001b[39m\u001b[38;5;241m-\u001b[39mpred_white))\u001b[38;5;241m*\u001b[39m\u001b[38;5;241m1e6\u001b[39m\u001b[38;5;241m*\u001b[39mtorch\u001b[38;5;241m.\u001b[39mones_like(pred_white)\n\u001b[1;32m     73\u001b[0m dist_masked_inv \u001b[38;5;241m=\u001b[39m pred_mask \u001b[38;5;241m*\u001b[39m dist_mat \u001b[38;5;241m*\u001b[39m gt_white\n",
      "\u001b[0;31mValueError\u001b[0m: operands could not be broadcast together with shapes (2,2,2,64,64) (64,64,64,64) "
     ]
    }
   ],
   "source": [
    "lf.get_img_loss(a, b, mode='l2_sq', affinity_loss=True)"
   ]
  },
  {
   "cell_type": "code",
   "execution_count": null,
   "id": "21176a52",
   "metadata": {},
   "outputs": [],
   "source": []
  }
 ],
 "metadata": {
  "kernelspec": {
   "display_name": "Python 3 (ipykernel)",
   "language": "python",
   "name": "python3"
  },
  "language_info": {
   "codemirror_mode": {
    "name": "ipython",
    "version": 3
   },
   "file_extension": ".py",
   "mimetype": "text/x-python",
   "name": "python",
   "nbconvert_exporter": "python",
   "pygments_lexer": "ipython3",
   "version": "3.8.10"
  }
 },
 "nbformat": 4,
 "nbformat_minor": 5
}
