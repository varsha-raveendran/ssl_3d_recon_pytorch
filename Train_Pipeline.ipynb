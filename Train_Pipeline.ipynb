{
 "cells": [
  {
   "cell_type": "code",
   "execution_count": 1,
   "id": "5380f9e0",
   "metadata": {},
   "outputs": [],
   "source": [
    "%load_ext autoreload\n",
    "%autoreload 2\n",
    "import os\n",
    "os.environ[\"KMP_DUPLICATE_LIB_OK\"]=\"TRUE\"\n",
    "import numpy as np"
   ]
  },
  {
   "cell_type": "code",
   "execution_count": 2,
   "id": "12efd1c1",
   "metadata": {},
   "outputs": [],
   "source": [
    "import torch\n",
    "from torchsummary import summary\n",
    "import torch.nn as nn\n",
    "import torch.nn.functional as F\n",
    "from torchsummary import summary"
   ]
  },
  {
   "cell_type": "code",
   "execution_count": 3,
   "id": "36931b8a",
   "metadata": {},
   "outputs": [],
   "source": [
    "from src.network_architecture.recon_model import ReconstructionNet\n",
    "from src.network_architecture.pose_net import PoseNet\n",
    "# from src.training import train_full\n",
    "from loss.loss import PoseLoss"
   ]
  },
  {
   "cell_type": "code",
   "execution_count": 4,
   "id": "e746fb0e",
   "metadata": {},
   "outputs": [],
   "source": [
    "config = {\n",
    "    'device': 'cuda:0',  # change this to cpu if you do not have a GPU\n",
    "    'is_overfit': True,\n",
    "    'category' : '02691156',\n",
    "    'batch_size': 2,\n",
    "    'resume_ckpt': None,\n",
    "    'learning_rate': 0.0005,\n",
    "    'max_epochs': 60,\n",
    "    'print_every_n': 1,\n",
    "    'validate_every_n': 1,\n",
    "}"
   ]
  },
  {
   "cell_type": "code",
   "execution_count": 15,
   "id": "67c1b064",
   "metadata": {},
   "outputs": [
    {
     "name": "stdout",
     "output_type": "stream",
     "text": [
      "(1, 1)\n",
      "(1, 1)\n",
      "training model!\n"
     ]
    }
   ],
   "source": [
    "train_full.main(config)"
   ]
  },
  {
   "cell_type": "code",
   "execution_count": 5,
   "id": "963f6dcf",
   "metadata": {},
   "outputs": [],
   "source": [
    "model = PoseNet()"
   ]
  },
  {
   "cell_type": "code",
   "execution_count": 6,
   "id": "c0d79511",
   "metadata": {},
   "outputs": [
    {
     "name": "stdout",
     "output_type": "stream",
     "text": [
      "----------------------------------------------------------------\n",
      "        Layer (type)               Output Shape         Param #\n",
      "================================================================\n",
      "            Conv2d-1         [-1, 32, 112, 112]             896\n",
      "              ReLU-2         [-1, 32, 112, 112]               0\n",
      "            Conv2d-3           [-1, 64, 56, 56]          18,496\n",
      "              ReLU-4           [-1, 64, 56, 56]               0\n",
      "            Conv2d-5          [-1, 128, 28, 28]          73,856\n",
      "              ReLU-6          [-1, 128, 28, 28]               0\n",
      "            Conv2d-7          [-1, 256, 14, 14]         295,168\n",
      "              ReLU-8          [-1, 256, 14, 14]               0\n",
      "            Linear-9                  [-1, 128]       6,422,656\n",
      "             ReLU-10                  [-1, 128]               0\n",
      "           Linear-11                  [-1, 128]          16,512\n",
      "             ReLU-12                  [-1, 128]               0\n",
      "           Linear-13                  [-1, 128]          16,512\n",
      "             ReLU-14                  [-1, 128]               0\n",
      "           Linear-15                    [-1, 2]             258\n",
      "             Tanh-16                    [-1, 2]               0\n",
      "================================================================\n",
      "Total params: 6,844,354\n",
      "Trainable params: 6,844,354\n",
      "Non-trainable params: 0\n",
      "----------------------------------------------------------------\n",
      "Input size (MB): 0.57\n",
      "Forward/backward pass size (MB): 11.49\n",
      "Params size (MB): 26.11\n",
      "Estimated Total Size (MB): 38.17\n",
      "----------------------------------------------------------------\n",
      "None\n"
     ]
    }
   ],
   "source": [
    "print(summary(model,(3,224,224)))"
   ]
  },
  {
   "cell_type": "code",
   "execution_count": 7,
   "id": "e27c9a2c",
   "metadata": {},
   "outputs": [],
   "source": [
    "test_input = torch.rand(3,224,224)"
   ]
  },
  {
   "cell_type": "code",
   "execution_count": 8,
   "id": "c24e901e",
   "metadata": {},
   "outputs": [],
   "source": [
    "output = model.forward(torch.unsqueeze(test_input,0))"
   ]
  },
  {
   "cell_type": "code",
   "execution_count": 9,
   "id": "c9e22e9e",
   "metadata": {},
   "outputs": [
    {
     "data": {
      "text/plain": [
       "torch.Size([1, 2])"
      ]
     },
     "execution_count": 9,
     "metadata": {},
     "output_type": "execute_result"
    }
   ],
   "source": [
    "output.shape"
   ]
  },
  {
   "cell_type": "code",
   "execution_count": null,
   "id": "b99aa934",
   "metadata": {},
   "outputs": [],
   "source": []
  },
  {
   "cell_type": "code",
   "execution_count": 10,
   "id": "36c9017e",
   "metadata": {},
   "outputs": [],
   "source": [
    "pose_loss = PoseLoss()"
   ]
  },
  {
   "cell_type": "code",
   "execution_count": 11,
   "id": "16aa2cf7",
   "metadata": {},
   "outputs": [
    {
     "data": {
      "text/plain": [
       "tensor([[0.1492, 0.2448]], grad_fn=<ViewBackward0>)"
      ]
     },
     "execution_count": 11,
     "metadata": {},
     "output_type": "execute_result"
    }
   ],
   "source": [
    "output "
   ]
  },
  {
   "cell_type": "code",
   "execution_count": 12,
   "id": "fe0dee5c",
   "metadata": {},
   "outputs": [],
   "source": [
    "target = torch.rand(1,2)"
   ]
  },
  {
   "cell_type": "code",
   "execution_count": 13,
   "id": "9f3d0abc",
   "metadata": {},
   "outputs": [],
   "source": [
    "loss = pose_loss(output,target)"
   ]
  },
  {
   "cell_type": "code",
   "execution_count": 14,
   "id": "e0dc8b56",
   "metadata": {},
   "outputs": [
    {
     "data": {
      "text/plain": [
       "tensor(0.5801, grad_fn=<MeanBackward0>)"
      ]
     },
     "execution_count": 14,
     "metadata": {},
     "output_type": "execute_result"
    }
   ],
   "source": [
    "loss"
   ]
  },
  {
   "cell_type": "code",
   "execution_count": 15,
   "id": "c07ee10f",
   "metadata": {},
   "outputs": [],
   "source": [
    "loss.backward()"
   ]
  },
  {
   "cell_type": "code",
   "execution_count": 16,
   "id": "bf37ffd6",
   "metadata": {},
   "outputs": [
    {
     "data": {
      "text/plain": [
       "tensor(0.5801, grad_fn=<MeanBackward0>)"
      ]
     },
     "execution_count": 16,
     "metadata": {},
     "output_type": "execute_result"
    }
   ],
   "source": [
    "loss"
   ]
  },
  {
   "cell_type": "code",
   "execution_count": null,
   "id": "61fb62fe",
   "metadata": {},
   "outputs": [],
   "source": []
  },
  {
   "cell_type": "code",
   "execution_count": null,
   "id": "4340c082",
   "metadata": {},
   "outputs": [],
   "source": []
  },
  {
   "cell_type": "code",
   "execution_count": 31,
   "id": "0d2c7ecc",
   "metadata": {},
   "outputs": [
    {
     "name": "stdout",
     "output_type": "stream",
     "text": [
      "Epoch :  1  \tLoss :  0.8586193323135376\n",
      "Epoch :  2  \tLoss :  0.8138160109519958\n",
      "Epoch :  3  \tLoss :  0.7770995497703552\n",
      "Epoch :  4  \tLoss :  0.7276517152786255\n",
      "Epoch :  5  \tLoss :  0.6648929119110107\n",
      "Epoch :  6  \tLoss :  0.5850026607513428\n",
      "Epoch :  7  \tLoss :  0.4852640926837921\n",
      "Epoch :  8  \tLoss :  0.36141180992126465\n",
      "Epoch :  9  \tLoss :  0.2011251449584961\n",
      "Epoch :  10  \tLoss :  0.10019803047180176\n",
      "Epoch :  11  \tLoss :  0.16607031226158142\n",
      "Epoch :  12  \tLoss :  0.20956993103027344\n",
      "Epoch :  13  \tLoss :  0.17526426911354065\n",
      "Epoch :  14  \tLoss :  0.09566956758499146\n",
      "Epoch :  15  \tLoss :  0.04290801286697388\n",
      "Epoch :  16  \tLoss :  0.0923575609922409\n",
      "Epoch :  17  \tLoss :  0.1261928528547287\n",
      "Epoch :  18  \tLoss :  0.12607254087924957\n",
      "Epoch :  19  \tLoss :  0.09795515239238739\n",
      "Epoch :  20  \tLoss :  0.04615378379821777\n",
      "Epoch :  21  \tLoss :  0.031188935041427612\n",
      "Epoch :  22  \tLoss :  0.06748118996620178\n",
      "Epoch :  23  \tLoss :  0.066855788230896\n",
      "Epoch :  24  \tLoss :  0.03574046492576599\n",
      "Epoch :  25  \tLoss :  0.018218427896499634\n",
      "Epoch :  26  \tLoss :  0.03889918327331543\n",
      "Epoch :  27  \tLoss :  0.03303515911102295\n",
      "Epoch :  28  \tLoss :  0.003627270460128784\n",
      "Epoch :  29  \tLoss :  0.04850524663925171\n",
      "Epoch :  30  \tLoss :  0.06935334205627441\n",
      "Epoch :  31  \tLoss :  0.06119218468666077\n",
      "Epoch :  32  \tLoss :  0.02840372920036316\n",
      "Epoch :  33  \tLoss :  0.023521602153778076\n",
      "Epoch :  34  \tLoss :  0.046417951583862305\n",
      "Epoch :  35  \tLoss :  0.04564619064331055\n",
      "Epoch :  36  \tLoss :  0.02394115924835205\n",
      "Epoch :  37  \tLoss :  0.017796814441680908\n",
      "Epoch :  38  \tLoss :  0.03295999765396118\n",
      "Epoch :  39  \tLoss :  0.023421823978424072\n",
      "Epoch :  40  \tLoss :  0.007290571928024292\n",
      "Epoch :  41  \tLoss :  0.01303139328956604\n",
      "Epoch :  42  \tLoss :  0.003293156623840332\n",
      "Epoch :  43  \tLoss :  0.01789608597755432\n",
      "Epoch :  44  \tLoss :  0.022712379693984985\n",
      "Epoch :  45  \tLoss :  0.019956111907958984\n",
      "Epoch :  46  \tLoss :  0.0072203874588012695\n",
      "Epoch :  47  \tLoss :  0.007121354341506958\n",
      "Epoch :  48  \tLoss :  0.019766658544540405\n",
      "Epoch :  49  \tLoss :  0.009391963481903076\n",
      "Epoch :  50  \tLoss :  0.02112630009651184\n",
      "Epoch :  51  \tLoss :  0.027636289596557617\n",
      "Epoch :  52  \tLoss :  0.013218611478805542\n",
      "Epoch :  53  \tLoss :  0.020901590585708618\n",
      "Epoch :  54  \tLoss :  0.030199289321899414\n",
      "Epoch :  55  \tLoss :  0.01661890745162964\n",
      "Epoch :  56  \tLoss :  0.01644265651702881\n",
      "Epoch :  57  \tLoss :  0.025474071502685547\n",
      "Epoch :  58  \tLoss :  0.013700991868972778\n",
      "Epoch :  59  \tLoss :  0.017492949962615967\n",
      "Epoch :  60  \tLoss :  0.02466869354248047\n",
      "Epoch :  61  \tLoss :  0.00981515645980835\n",
      "Epoch :  62  \tLoss :  0.023723334074020386\n",
      "Epoch :  63  \tLoss :  0.03379368782043457\n",
      "Epoch :  64  \tLoss :  0.02359592914581299\n",
      "Epoch :  65  \tLoss :  0.005441635847091675\n",
      "Epoch :  66  \tLoss :  0.011415541172027588\n",
      "Epoch :  67  \tLoss :  0.003714919090270996\n",
      "Epoch :  68  \tLoss :  0.0028268396854400635\n",
      "Epoch :  69  \tLoss :  0.011400341987609863\n",
      "Epoch :  70  \tLoss :  0.004410892724990845\n",
      "Epoch :  71  \tLoss :  0.02207455039024353\n",
      "Epoch :  72  \tLoss :  0.025359153747558594\n",
      "Epoch :  73  \tLoss :  0.007594019174575806\n",
      "Epoch :  74  \tLoss :  0.027853578329086304\n",
      "Epoch :  75  \tLoss :  0.04022324085235596\n",
      "Epoch :  76  \tLoss :  0.032797038555145264\n",
      "Epoch :  77  \tLoss :  0.007122337818145752\n",
      "Epoch :  78  \tLoss :  0.03658053278923035\n",
      "Epoch :  79  \tLoss :  0.055681586265563965\n",
      "Epoch :  80  \tLoss :  0.0512947142124176\n",
      "Epoch :  81  \tLoss :  0.026181906461715698\n",
      "Epoch :  82  \tLoss :  0.0158272385597229\n",
      "Epoch :  83  \tLoss :  0.033726006746292114\n",
      "Epoch :  84  \tLoss :  0.03133702278137207\n",
      "Epoch :  85  \tLoss :  0.010615110397338867\n",
      "Epoch :  86  \tLoss :  0.027869373559951782\n",
      "Epoch :  87  \tLoss :  0.042766571044921875\n",
      "Epoch :  88  \tLoss :  0.0354345440864563\n",
      "Epoch :  89  \tLoss :  0.008688122034072876\n",
      "Epoch :  90  \tLoss :  0.033743977546691895\n",
      "Epoch :  91  \tLoss :  0.05291926860809326\n",
      "Epoch :  92  \tLoss :  0.05262365937232971\n",
      "Epoch :  93  \tLoss :  0.03486979007720947\n",
      "Epoch :  94  \tLoss :  0.000344693660736084\n",
      "Epoch :  95  \tLoss :  0.05134063959121704\n",
      "Epoch :  96  \tLoss :  0.07831206917762756\n",
      "Epoch :  97  \tLoss :  0.08111634850502014\n",
      "Epoch :  98  \tLoss :  0.06207874417304993\n",
      "Epoch :  99  \tLoss :  0.024775713682174683\n",
      "Epoch :  100  \tLoss :  0.026556849479675293\n"
     ]
    }
   ],
   "source": [
    "model = PoseNet()\n",
    "optimizer = torch.optim.Adam(model.parameters(), lr = 0.0001 )\n",
    "model.train()\n",
    "loss_criterion = PoseLoss()\n",
    "loss_log = []\n",
    "for i in range(100):\n",
    "    optimizer.zero_grad()\n",
    "    prediction = model.forward(torch.unsqueeze(test_input,0))\n",
    "    # print(\"prediction shape: \", prediction.shape)\n",
    "    loss_total = loss_criterion(prediction,target)\n",
    "    loss_total.backward(retain_graph=True)\n",
    "    optimizer.step()\n",
    "    loss_log.append(loss_total.item())\n",
    "    print(\"Epoch : \", i+1, \" \\tLoss : \", loss_total.item() )"
   ]
  },
  {
   "cell_type": "code",
   "execution_count": null,
   "id": "53a5f878",
   "metadata": {},
   "outputs": [],
   "source": []
  }
 ],
 "metadata": {
  "kernelspec": {
   "display_name": "Python 3 (ipykernel)",
   "language": "python",
   "name": "python3"
  },
  "language_info": {
   "codemirror_mode": {
    "name": "ipython",
    "version": 3
   },
   "file_extension": ".py",
   "mimetype": "text/x-python",
   "name": "python",
   "nbconvert_exporter": "python",
   "pygments_lexer": "ipython3",
   "version": "3.10.4"
  }
 },
 "nbformat": 4,
 "nbformat_minor": 5
}
