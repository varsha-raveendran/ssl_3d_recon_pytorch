{
 "cells": [
  {
   "cell_type": "code",
   "execution_count": 1,
   "id": "7206506d",
   "metadata": {},
   "outputs": [
    {
     "name": "stdout",
     "output_type": "stream",
     "text": [
      "{'02691156': 'airplane', '02933112': 'cabinet', '02958343': 'car', '03001627': 'chair', '03636649': 'lamp', '04256520': 'sofa', '04379243': 'table', '04530566': 'watercraft'}\n"
     ]
    }
   ],
   "source": [
    "import torch\n",
    "import numpy as np\n",
    "\n",
    "from src.data.shapenet import ShapeNet\n",
    "from src.renderer.projection import World2Cam, PerspectiveTransform, RgbContProj, ContProj\n",
    "\n",
    "%load_ext autoreload\n",
    "\n",
    "%autoreload 2\n"
   ]
  },
  {
   "cell_type": "code",
   "execution_count": 2,
   "id": "1ee7f632",
   "metadata": {},
   "outputs": [],
   "source": [
    "# Load point cloud to render\n",
    "pcl = np.load(r'D:\\Projects\\ML3D\\ShapeNet_pointclouds\\02691156\\1a04e3eab45ca15dd86060f189eb133\\pointcloud_1024.npy')\n",
    "\n",
    "# Reshape \n",
    "pcl =torch.from_numpy(pcl).view(-1, 1024, 3)\n",
    "pcl.shape"
   ]
  },
  {
   "cell_type": "code",
   "execution_count": 3,
   "id": "b1fa9cd4",
   "metadata": {},
   "outputs": [
    {
     "data": {
      "text/plain": [
       "torch.Size([1, 1024, 3])"
      ]
     },
     "execution_count": 3,
     "metadata": {},
     "output_type": "execute_result"
    }
   ],
   "source": [
    "pcl =torch.from_numpy(pcl).view(-1, 1024, 3)\n",
    "pcl.shape"
   ]
  },
  {
   "cell_type": "code",
   "execution_count": 30,
   "id": "0a377217",
   "metadata": {},
   "outputs": [
    {
     "name": "stdout",
     "output_type": "stream",
     "text": [
      "torch.Size([1, 2])\n"
     ]
    }
   ],
   "source": [
    "# Create some dummy pose data\n",
    "# Set the range to something a tanh function can do i.e. between -1 and 1\n",
    "pose_out = torch.from_numpy(np.reshape(np.pi*np.array((-0.1, -0.7)), (-1,2)))\n",
    "\n",
    "print(pose_out.shape)"
   ]
  },
  {
   "cell_type": "code",
   "execution_count": 5,
   "id": "d9488026",
   "metadata": {},
   "outputs": [],
   "source": [
    "# Initialize projection modules\n",
    "world2cam = World2Cam()\n",
    "perspective_transform = PerspectiveTransform()\n",
    "get_proj_rgb = RgbContProj()\n",
    "get_proj_mask = ContProj()"
   ]
  },
  {
   "cell_type": "code",
   "execution_count": 42,
   "id": "b04cc82b",
   "metadata": {},
   "outputs": [],
   "source": [
    "def plot_img_and_mask(pcl, pose_out):\n",
    "    pcl_out_rot = world2cam(pcl, pose_out[0][0], pose_out[0][1], 2., 2., 1)\n",
    "    pcl_out_pers = perspective_transform(pcl_out_rot, 1)\n",
    "    img_out = get_proj_rgb(pcl_out_pers, pcl, 1024, 50, 50)\n",
    "    mask_out = get_proj_mask(pcl_out_pers, 50, 50, 1024, 0.4)\n",
    "    \n",
    "    img = img_out[0][0].numpy()\n",
    "    mask = mask_out[0].numpy()\n",
    "    \n",
    "    fig, axs = plt.subplots(1, 2)\n",
    "    axs[0].imshow(img)\n",
    "    axs[1].imshow(mask)"
   ]
  },
  {
   "cell_type": "code",
   "execution_count": 43,
   "id": "ef145ebe",
   "metadata": {},
   "outputs": [
    {
     "name": "stdout",
     "output_type": "stream",
     "text": [
      "torch.Size([3, 3])\n",
      "torch.Size([1, 3, 1024])\n",
      "torch.Size([1, 1024, 50, 50, 1])\n"
     ]
    },
    {
     "name": "stderr",
     "output_type": "stream",
     "text": [
      "Clipping input data to the valid range for imshow with RGB data ([0..1] for floats or [0..255] for integers).\n"
     ]
    },
    {
     "name": "stdout",
     "output_type": "stream",
     "text": [
      "torch.Size([1, 1024, 1, 1, 3])\n"
     ]
    },
    {
     "data": {
      "image/png": "[encoded data removed]",
      "text/plain": [
       "<Figure size 432x288 with 2 Axes>"
      ]
     },
     "metadata": {
      "needs_background": "light"
     },
     "output_type": "display_data"
    }
   ],
   "source": [
    "plot_img_and_mask(pcl, pose_out)"
   ]
  },
  {
   "cell_type": "code",
   "execution_count": 44,
   "id": "3bf43cd7",
   "metadata": {},
   "outputs": [
    {
     "name": "stdout",
     "output_type": "stream",
     "text": [
      "torch.Size([3, 3])\n",
      "torch.Size([1, 3, 1024])\n"
     ]
    },
    {
     "name": "stderr",
     "output_type": "stream",
     "text": [
      "Clipping input data to the valid range for imshow with RGB data ([0..1] for floats or [0..255] for integers).\n"
     ]
    },
    {
     "name": "stdout",
     "output_type": "stream",
     "text": [
      "torch.Size([1, 1024, 50, 50, 1])\n",
      "torch.Size([1, 1024, 1, 1, 3])\n"
     ]
    },
    {
     "data": {
      "image/png": "[encoded data removed]",
      "text/plain": [
       "<Figure size 432x288 with 2 Axes>"
      ]
     },
     "metadata": {
      "needs_background": "light"
     },
     "output_type": "display_data"
    }
   ],
   "source": [
    "pose_out = torch.from_numpy(np.reshape(np.pi*np.array((1, 1)), (-1,2)))\n",
    "plot_img_and_mask(pcl, pose_out)"
   ]
  },
  {
   "cell_type": "code",
   "execution_count": 47,
   "id": "6e928abe",
   "metadata": {},
   "outputs": [
    {
     "name": "stdout",
     "output_type": "stream",
     "text": [
      "torch.Size([3, 3])\n",
      "torch.Size([1, 3, 1024])\n",
      "torch.Size([1, 1024, 50, 50, 1])\n"
     ]
    },
    {
     "name": "stderr",
     "output_type": "stream",
     "text": [
      "Clipping input data to the valid range for imshow with RGB data ([0..1] for floats or [0..255] for integers).\n"
     ]
    },
    {
     "name": "stdout",
     "output_type": "stream",
     "text": [
      "torch.Size([1, 1024, 1, 1, 3])\n"
     ]
    },
    {
     "data": {
      "image/png": "[encoded data removed]",
      "text/plain": [
       "<Figure size 432x288 with 2 Axes>"
      ]
     },
     "metadata": {
      "needs_background": "light"
     },
     "output_type": "display_data"
    }
   ],
   "source": [
    "pose_out = torch.from_numpy(np.reshape(np.pi*np.array((-0.5, -1)), (-1,2)))\n",
    "plot_img_and_mask(pcl, pose_out)"
   ]
  },
  {
   "cell_type": "code",
   "execution_count": 49,
   "id": "f00c37c6",
   "metadata": {},
   "outputs": [
    {
     "name": "stdout",
     "output_type": "stream",
     "text": [
      "torch.Size([3, 3])\n",
      "torch.Size([1, 3, 1024])\n"
     ]
    },
    {
     "name": "stderr",
     "output_type": "stream",
     "text": [
      "Clipping input data to the valid range for imshow with RGB data ([0..1] for floats or [0..255] for integers).\n"
     ]
    },
    {
     "name": "stdout",
     "output_type": "stream",
     "text": [
      "torch.Size([1, 1024, 50, 50, 1])\n",
      "torch.Size([1, 1024, 1, 1, 3])\n"
     ]
    },
    {
     "data": {
      "image/png": "[encoded data removed]",
      "text/plain": [
       "<Figure size 432x288 with 2 Axes>"
      ]
     },
     "metadata": {
      "needs_background": "light"
     },
     "output_type": "display_data"
    }
   ],
   "source": [
    "pose_out = torch.from_numpy(np.reshape(np.pi*np.array((0.6, -0.7)), (-1,2)))\n",
    "plot_img_and_mask(pcl, pose_out)"
   ]
  },
  {
   "cell_type": "code",
   "execution_count": null,
   "id": "2b6aafc3",
   "metadata": {},
   "outputs": [],
   "source": []
  }
 ],
 "metadata": {
  "kernelspec": {
   "display_name": "Python [conda env:ml3d2] *",
   "language": "python",
   "name": "conda-env-ml3d2-py"
  },
  "language_info": {
   "codemirror_mode": {
    "name": "ipython",
    "version": 3
   },
   "file_extension": ".py",
   "mimetype": "text/x-python",
   "name": "python",
   "nbconvert_exporter": "python",
   "pygments_lexer": "ipython3",
   "version": "3.9.12"
  }
 },
 "nbformat": 4,
 "nbformat_minor": 5
}
