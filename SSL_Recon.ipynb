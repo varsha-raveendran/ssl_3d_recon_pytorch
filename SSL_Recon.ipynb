{
 "cells": [
  {
   "cell_type": "code",
   "execution_count": 1,
   "id": "a9f086db",
   "metadata": {},
   "outputs": [],
   "source": [
    "%load_ext autoreload\n",
    "%autoreload 2\n",
    "import os\n",
    "\n",
    "import numpy as np"
   ]
  },
  {
   "cell_type": "code",
   "execution_count": 2,
   "id": "502b587b",
   "metadata": {},
   "outputs": [
    {
     "name": "stdout",
     "output_type": "stream",
     "text": [
      "Requirement already satisfied: torchvision in /home/varsha/.local/lib/python3.8/site-packages (0.13.0)\n",
      "Requirement already satisfied: requests in /usr/lib/python3/dist-packages (from torchvision) (2.22.0)\n",
      "Requirement already satisfied: torch==1.12.0 in /home/varsha/.local/lib/python3.8/site-packages (from torchvision) (1.12.0)\n",
      "Requirement already satisfied: numpy in /home/varsha/.local/lib/python3.8/site-packages (from torchvision) (1.19.4)\n",
      "Requirement already satisfied: pillow!=8.3.*,>=5.3.0 in /home/varsha/.local/lib/python3.8/site-packages (from torchvision) (9.1.1)\n",
      "Requirement already satisfied: typing-extensions in /home/varsha/.local/lib/python3.8/site-packages (from torchvision) (4.2.0)\n",
      "Note: you may need to restart the kernel to use updated packages.\n"
     ]
    }
   ],
   "source": [
    "%pip install torchvision"
   ]
  },
  {
   "cell_type": "code",
   "execution_count": 41,
   "id": "b1512d4c",
   "metadata": {},
   "outputs": [
    {
     "name": "stdout",
     "output_type": "stream",
     "text": [
      "{'02691156': 'airplane', '02933112': 'cabinet', '02958343': 'car', '03001627': 'chair', '03636649': 'lamp', '04256520': 'sofa', '04379243': 'table', '04530566': 'watercraft'}\n"
     ]
    }
   ],
   "source": [
    "from src.data.shapenet import ShapeNet"
   ]
  },
  {
   "cell_type": "code",
   "execution_count": 42,
   "id": "6142f3b5",
   "metadata": {},
   "outputs": [
    {
     "data": {
      "text/plain": [
       "{'02691156': 'airplane',\n",
       " '02933112': 'cabinet',\n",
       " '02958343': 'car',\n",
       " '03001627': 'chair',\n",
       " '03636649': 'lamp',\n",
       " '04256520': 'sofa',\n",
       " '04379243': 'table',\n",
       " '04530566': 'watercraft'}"
      ]
     },
     "execution_count": 42,
     "metadata": {},
     "output_type": "execute_result"
    }
   ],
   "source": [
    "ShapeNet.class_name_mapping"
   ]
  },
  {
   "cell_type": "code",
   "execution_count": 43,
   "id": "a0934bc9",
   "metadata": {},
   "outputs": [
    {
     "name": "stdout",
     "output_type": "stream",
     "text": [
      "(2831, 1)\n"
     ]
    }
   ],
   "source": [
    "dataset = ShapeNet('train','02691156' )"
   ]
  },
  {
   "cell_type": "code",
   "execution_count": 44,
   "id": "a5a4df35",
   "metadata": {},
   "outputs": [
    {
     "name": "stdout",
     "output_type": "stream",
     "text": [
      "5\n",
      "torch.Size([4, 224, 224])\n"
     ]
    }
   ],
   "source": [
    "data = dataset[2]"
   ]
  },
  {
   "cell_type": "code",
   "execution_count": 33,
   "id": "05b0f0a6",
   "metadata": {},
   "outputs": [
    {
     "name": "stdout",
     "output_type": "stream",
     "text": [
      "Requirement already satisfied: open3d in /home/varsha/.local/lib/python3.8/site-packages (0.13.0)\n",
      "Requirement already satisfied: pandas>=1.0 in /home/varsha/.local/lib/python3.8/site-packages (from open3d) (1.1.1)\n",
      "Requirement already satisfied: pyyaml>=5.4.1 in /home/varsha/.local/lib/python3.8/site-packages (from open3d) (5.4.1)\n",
      "Requirement already satisfied: setuptools>=40.8.0 in /usr/lib/python3/dist-packages (from open3d) (45.2.0)\n",
      "Requirement already satisfied: pygments>=2.7.4 in /home/varsha/.local/lib/python3.8/site-packages (from open3d) (2.12.0)\n",
      "Requirement already satisfied: matplotlib>=3 in /home/varsha/.local/lib/python3.8/site-packages (from open3d) (3.4.2)\n",
      "Requirement already satisfied: jupyterlab==3.*,>=3.0.0 in /home/varsha/.local/lib/python3.8/site-packages (from open3d) (3.4.3)\n",
      "Requirement already satisfied: numpy>1.15 in /home/varsha/.local/lib/python3.8/site-packages (from open3d) (1.19.4)\n",
      "Requirement already satisfied: addict in /home/varsha/.local/lib/python3.8/site-packages (from open3d) (2.4.0)\n",
      "Requirement already satisfied: ipywidgets>=7.6.0 in /home/varsha/.local/lib/python3.8/site-packages (from open3d) (7.7.1)\n",
      "Requirement already satisfied: tqdm in /home/varsha/.local/lib/python3.8/site-packages (from open3d) (4.64.0)\n",
      "Requirement already satisfied: scikit-learn>=0.21 in /home/varsha/.local/lib/python3.8/site-packages (from open3d) (1.1.1)\n",
      "Requirement already satisfied: pillow>=8.2.0 in /home/varsha/.local/lib/python3.8/site-packages (from open3d) (9.1.1)\n",
      "Requirement already satisfied: jupyter-packaging~=0.10 in /home/varsha/.local/lib/python3.8/site-packages (from open3d) (0.12.2)\n",
      "Requirement already satisfied: wheel>=0.36.0 in /home/varsha/.local/lib/python3.8/site-packages (from open3d) (0.36.2)\n",
      "Requirement already satisfied: python-dateutil>=2.7.3 in /usr/lib/python3/dist-packages (from pandas>=1.0->open3d) (2.7.3)\n",
      "Requirement already satisfied: pytz>=2017.2 in /home/varsha/.local/lib/python3.8/site-packages (from pandas>=1.0->open3d) (2021.1)\n",
      "Requirement already satisfied: pyparsing>=2.2.1 in /home/varsha/.local/lib/python3.8/site-packages (from matplotlib>=3->open3d) (3.0.9)\n",
      "Requirement already satisfied: kiwisolver>=1.0.1 in /home/varsha/.local/lib/python3.8/site-packages (from matplotlib>=3->open3d) (1.3.1)\n",
      "Requirement already satisfied: cycler>=0.10 in /home/varsha/.local/lib/python3.8/site-packages (from matplotlib>=3->open3d) (0.10.0)\n",
      "Requirement already satisfied: jinja2>=2.1 in /usr/lib/python3/dist-packages (from jupyterlab==3.*,>=3.0.0->open3d) (2.10.1)\n",
      "Requirement already satisfied: jupyter-core in /usr/lib/python3/dist-packages (from jupyterlab==3.*,>=3.0.0->open3d) (4.6.3)\n",
      "Requirement already satisfied: jupyterlab-server~=2.10 in /home/varsha/.local/lib/python3.8/site-packages (from jupyterlab==3.*,>=3.0.0->open3d) (2.14.0)\n",
      "Requirement already satisfied: nbclassic~=0.2 in /home/varsha/.local/lib/python3.8/site-packages (from jupyterlab==3.*,>=3.0.0->open3d) (0.4.0)\n",
      "Requirement already satisfied: jupyter-server~=1.16 in /home/varsha/.local/lib/python3.8/site-packages (from jupyterlab==3.*,>=3.0.0->open3d) (1.18.0)\n",
      "Requirement already satisfied: tornado>=6.1.0 in /home/varsha/.local/lib/python3.8/site-packages (from jupyterlab==3.*,>=3.0.0->open3d) (6.1)\n",
      "Requirement already satisfied: ipython in /usr/lib/python3/dist-packages (from jupyterlab==3.*,>=3.0.0->open3d) (7.13.0)\n",
      "Requirement already satisfied: packaging in /home/varsha/.local/lib/python3.8/site-packages (from jupyterlab==3.*,>=3.0.0->open3d) (21.3)\n",
      "Requirement already satisfied: ipykernel>=4.5.1 in /usr/lib/python3/dist-packages (from ipywidgets>=7.6.0->open3d) (5.2.0)\n",
      "Requirement already satisfied: widgetsnbextension~=3.6.0 in /home/varsha/.local/lib/python3.8/site-packages (from ipywidgets>=7.6.0->open3d) (3.6.1)\n",
      "Requirement already satisfied: jupyterlab-widgets>=1.0.0; python_version >= \"3.6\" in /home/varsha/.local/lib/python3.8/site-packages (from ipywidgets>=7.6.0->open3d) (1.1.1)\n",
      "Requirement already satisfied: traitlets>=4.3.1 in /usr/lib/python3/dist-packages (from ipywidgets>=7.6.0->open3d) (4.3.3)\n",
      "Requirement already satisfied: ipython-genutils~=0.2.0 in /usr/lib/python3/dist-packages (from ipywidgets>=7.6.0->open3d) (0.2.0)\n",
      "Requirement already satisfied: threadpoolctl>=2.0.0 in /home/varsha/.local/lib/python3.8/site-packages (from scikit-learn>=0.21->open3d) (2.1.0)\n",
      "Requirement already satisfied: scipy>=1.3.2 in /home/varsha/.local/lib/python3.8/site-packages (from scikit-learn>=0.21->open3d) (1.4.1)\n",
      "Requirement already satisfied: joblib>=1.0.0 in /home/varsha/.local/lib/python3.8/site-packages (from scikit-learn>=0.21->open3d) (1.1.0)\n",
      "Requirement already satisfied: deprecation in /home/varsha/.local/lib/python3.8/site-packages (from jupyter-packaging~=0.10->open3d) (2.1.0)\n",
      "Requirement already satisfied: tomlkit in /home/varsha/.local/lib/python3.8/site-packages (from jupyter-packaging~=0.10->open3d) (0.11.0)\n",
      "Requirement already satisfied: six in /usr/lib/python3/dist-packages (from cycler>=0.10->matplotlib>=3->open3d) (1.14.0)\n",
      "Requirement already satisfied: importlib-metadata>=3.6; python_version < \"3.10\" in /home/varsha/.local/lib/python3.8/site-packages (from jupyterlab-server~=2.10->jupyterlab==3.*,>=3.0.0->open3d) (4.11.3)\n",
      "Requirement already satisfied: json5 in /home/varsha/.local/lib/python3.8/site-packages (from jupyterlab-server~=2.10->jupyterlab==3.*,>=3.0.0->open3d) (0.9.8)\n",
      "Requirement already satisfied: requests in /usr/lib/python3/dist-packages (from jupyterlab-server~=2.10->jupyterlab==3.*,>=3.0.0->open3d) (2.22.0)\n",
      "Requirement already satisfied: babel in /home/varsha/.local/lib/python3.8/site-packages (from jupyterlab-server~=2.10->jupyterlab==3.*,>=3.0.0->open3d) (2.10.3)\n",
      "Requirement already satisfied: jsonschema>=3.0.1 in /usr/lib/python3/dist-packages (from jupyterlab-server~=2.10->jupyterlab==3.*,>=3.0.0->open3d) (3.2.0)\n",
      "Requirement already satisfied: notebook-shim>=0.1.0 in /home/varsha/.local/lib/python3.8/site-packages (from nbclassic~=0.2->jupyterlab==3.*,>=3.0.0->open3d) (0.1.0)\n",
      "Requirement already satisfied: jupyter-client>=6.1.1 in /usr/lib/python3/dist-packages (from nbclassic~=0.2->jupyterlab==3.*,>=3.0.0->open3d) (6.1.2)\n",
      "Requirement already satisfied: argon2-cffi in /home/varsha/.local/lib/python3.8/site-packages (from nbclassic~=0.2->jupyterlab==3.*,>=3.0.0->open3d) (21.3.0)\n",
      "Requirement already satisfied: nbformat in /usr/lib/python3/dist-packages (from nbclassic~=0.2->jupyterlab==3.*,>=3.0.0->open3d) (5.0.4)\n",
      "Requirement already satisfied: pyzmq>=17 in /usr/lib/python3/dist-packages (from nbclassic~=0.2->jupyterlab==3.*,>=3.0.0->open3d) (18.1.1)\n",
      "Requirement already satisfied: prometheus-client in /usr/lib/python3/dist-packages (from nbclassic~=0.2->jupyterlab==3.*,>=3.0.0->open3d) (0.7.1)\n",
      "Requirement already satisfied: terminado>=0.8.3 in /home/varsha/.local/lib/python3.8/site-packages (from nbclassic~=0.2->jupyterlab==3.*,>=3.0.0->open3d) (0.15.0)\n",
      "Requirement already satisfied: nest-asyncio>=1.5 in /home/varsha/.local/lib/python3.8/site-packages (from nbclassic~=0.2->jupyterlab==3.*,>=3.0.0->open3d) (1.5.5)\n",
      "Requirement already satisfied: nbconvert>=5 in /usr/lib/python3/dist-packages (from nbclassic~=0.2->jupyterlab==3.*,>=3.0.0->open3d) (5.6.1)\n",
      "Requirement already satisfied: Send2Trash>=1.8.0 in /home/varsha/.local/lib/python3.8/site-packages (from nbclassic~=0.2->jupyterlab==3.*,>=3.0.0->open3d) (1.8.0)\n",
      "Requirement already satisfied: websocket-client in /home/varsha/.local/lib/python3.8/site-packages (from jupyter-server~=1.16->jupyterlab==3.*,>=3.0.0->open3d) (1.3.3)\n",
      "Requirement already satisfied: anyio<4,>=3.1.0 in /home/varsha/.local/lib/python3.8/site-packages (from jupyter-server~=1.16->jupyterlab==3.*,>=3.0.0->open3d) (3.6.1)\n",
      "Requirement already satisfied: pexpect in /usr/lib/python3/dist-packages (from ipython->jupyterlab==3.*,>=3.0.0->open3d) (4.6.0)\n",
      "Requirement already satisfied: notebook>=4.4.1 in /usr/lib/python3/dist-packages (from widgetsnbextension~=3.6.0->ipywidgets>=7.6.0->open3d) (6.0.3)\n",
      "Requirement already satisfied: zipp>=0.5 in /usr/lib/python3/dist-packages (from importlib-metadata>=3.6; python_version < \"3.10\"->jupyterlab-server~=2.10->jupyterlab==3.*,>=3.0.0->open3d) (1.0.0)\n"
     ]
    },
    {
     "name": "stdout",
     "output_type": "stream",
     "text": [
      "Requirement already satisfied: argon2-cffi-bindings in /home/varsha/.local/lib/python3.8/site-packages (from argon2-cffi->nbclassic~=0.2->jupyterlab==3.*,>=3.0.0->open3d) (21.2.0)\n",
      "Requirement already satisfied: ptyprocess; os_name != \"nt\" in /home/varsha/.local/lib/python3.8/site-packages (from terminado>=0.8.3->nbclassic~=0.2->jupyterlab==3.*,>=3.0.0->open3d) (0.7.0)\n",
      "Requirement already satisfied: idna>=2.8 in /usr/lib/python3/dist-packages (from anyio<4,>=3.1.0->jupyter-server~=1.16->jupyterlab==3.*,>=3.0.0->open3d) (2.8)\n",
      "Requirement already satisfied: sniffio>=1.1 in /home/varsha/.local/lib/python3.8/site-packages (from anyio<4,>=3.1.0->jupyter-server~=1.16->jupyterlab==3.*,>=3.0.0->open3d) (1.2.0)\n",
      "Requirement already satisfied: cffi>=1.0.1 in /home/varsha/.local/lib/python3.8/site-packages (from argon2-cffi-bindings->argon2-cffi->nbclassic~=0.2->jupyterlab==3.*,>=3.0.0->open3d) (1.15.1)\n",
      "Requirement already satisfied: pycparser in /home/varsha/.local/lib/python3.8/site-packages (from cffi>=1.0.1->argon2-cffi-bindings->argon2-cffi->nbclassic~=0.2->jupyterlab==3.*,>=3.0.0->open3d) (2.21)\n",
      "Note: you may need to restart the kernel to use updated packages.\n"
     ]
    }
   ],
   "source": [
    "%pip install open3d"
   ]
  },
  {
   "cell_type": "code",
   "execution_count": null,
   "id": "b84246e5",
   "metadata": {},
   "outputs": [],
   "source": []
  },
  {
   "cell_type": "code",
   "execution_count": 34,
   "id": "8d755a5b",
   "metadata": {},
   "outputs": [
    {
     "data": {
      "text/plain": [
       "True"
      ]
     },
     "execution_count": 34,
     "metadata": {},
     "output_type": "execute_result"
    }
   ],
   "source": [
    "import open3d as o3d\n",
    "pcd = o3d.geometry.PointCloud()\n",
    "\n",
    "pcd.points = o3d.utility.Vector3dVector(data['pcl'])\n",
    "o3d.io.write_point_cloud(\"./data.ply\", pcd)"
   ]
  },
  {
   "cell_type": "code",
   "execution_count": 35,
   "id": "04fe7df9",
   "metadata": {},
   "outputs": [
    {
     "data": {
      "text/plain": [
       "'98011d15300361e54f0e6f5b218145e'"
      ]
     },
     "execution_count": 35,
     "metadata": {},
     "output_type": "execute_result"
    }
   ],
   "source": [
    "data['name']"
   ]
  },
  {
   "cell_type": "code",
   "execution_count": 37,
   "id": "eb1a0d18",
   "metadata": {},
   "outputs": [],
   "source": [
    "import matplotlib.pyplot as plt"
   ]
  },
  {
   "cell_type": "code",
   "execution_count": 58,
   "id": "5bc3348c",
   "metadata": {},
   "outputs": [
    {
     "data": {
      "text/plain": [
       "<matplotlib.image.AxesImage at 0x7f548adb5850>"
      ]
     },
     "execution_count": 58,
     "metadata": {},
     "output_type": "execute_result"
    },
    {
     "data": {
      "image/png": "[encoded data removed]",
      "text/plain": [
       "<Figure size 432x288 with 1 Axes>"
      ]
     },
     "metadata": {
      "needs_background": "light"
     },
     "output_type": "display_data"
    }
   ],
   "source": [
    "tensor_image = data['img_rgb']\n",
    "plt.imshow(  tensor_image.permute(1, 2, 0)  )\n"
   ]
  },
  {
   "cell_type": "code",
   "execution_count": 59,
   "id": "8493bb02",
   "metadata": {},
   "outputs": [
    {
     "data": {
      "text/plain": [
       "<matplotlib.image.AxesImage at 0x7f547c59f070>"
      ]
     },
     "execution_count": 59,
     "metadata": {},
     "output_type": "execute_result"
    },
    {
     "data": {
      "image/png": "[encoded data removed]",
      "text/plain": [
       "<Figure size 432x288 with 1 Axes>"
      ]
     },
     "metadata": {
      "needs_background": "light"
     },
     "output_type": "display_data"
    }
   ],
   "source": [
    "tensor_image = data['img_mask']\n",
    "plt.imshow(  tensor_image.permute(1, 2, 0)  )"
   ]
  },
  {
   "cell_type": "code",
   "execution_count": null,
   "id": "3c0b344c",
   "metadata": {},
   "outputs": [],
   "source": []
  }
 ],
 "metadata": {
  "kernelspec": {
   "display_name": "Python 3 (ipykernel)",
   "language": "python",
   "name": "python3"
  },
  "language_info": {
   "codemirror_mode": {
    "name": "ipython",
    "version": 3
   },
   "file_extension": ".py",
   "mimetype": "text/x-python",
   "name": "python",
   "nbconvert_exporter": "python",
   "pygments_lexer": "ipython3",
   "version": "3.8.10"
  }
 },
 "nbformat": 4,
 "nbformat_minor": 5
}
