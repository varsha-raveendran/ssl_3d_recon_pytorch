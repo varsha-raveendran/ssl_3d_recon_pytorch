{
 "cells": [
  {
   "cell_type": "code",
   "execution_count": 1,
   "metadata": {},
   "outputs": [],
   "source": [
    "%load_ext autoreload\n",
    "%autoreload 2\n",
    "import os\n",
    "\n",
    "import numpy as np"
   ]
  },
  {
   "cell_type": "code",
   "execution_count": 2,
   "metadata": {},
   "outputs": [
    {
     "name": "stdout",
     "output_type": "stream",
     "text": [
      "Requirement already satisfied: opencv-python in /home/varsha/.local/lib/python3.8/site-packages (4.6.0.66)\n",
      "Requirement already satisfied: numpy>=1.14.5; python_version >= \"3.7\" in /home/varsha/.local/lib/python3.8/site-packages (from opencv-python) (1.19.4)\n",
      "Note: you may need to restart the kernel to use updated packages.\n"
     ]
    }
   ],
   "source": [
    "%pip install opencv-python"
   ]
  },
  {
   "cell_type": "code",
   "execution_count": 3,
   "metadata": {},
   "outputs": [
    {
     "name": "stdout",
     "output_type": "stream",
     "text": [
      "{'02691156': 'airplane', '02933112': 'cabinet', '02958343': 'car', '03001627': 'chair', '03636649': 'lamp', '04256520': 'sofa', '04379243': 'table', '04530566': 'watercraft'}\n"
     ]
    }
   ],
   "source": [
    "from src.data.shapenet import ShapeNet"
   ]
  },
  {
   "cell_type": "code",
   "execution_count": 4,
   "metadata": {},
   "outputs": [
    {
     "data": {
      "text/plain": [
       "{'02691156': 'airplane',\n",
       " '02933112': 'cabinet',\n",
       " '02958343': 'car',\n",
       " '03001627': 'chair',\n",
       " '03636649': 'lamp',\n",
       " '04256520': 'sofa',\n",
       " '04379243': 'table',\n",
       " '04530566': 'watercraft'}"
      ]
     },
     "execution_count": 4,
     "metadata": {},
     "output_type": "execute_result"
    }
   ],
   "source": [
    "ShapeNet.class_name_mapping"
   ]
  },
  {
   "cell_type": "code",
   "execution_count": 5,
   "metadata": {},
   "outputs": [
    {
     "name": "stdout",
     "output_type": "stream",
     "text": [
      "(1, 1)\n"
     ]
    }
   ],
   "source": [
    "dataset = ShapeNet('overfit','02691156' )"
   ]
  },
  {
   "cell_type": "code",
   "execution_count": 6,
   "metadata": {},
   "outputs": [
    {
     "name": "stdout",
     "output_type": "stream",
     "text": [
      "0\n",
      "torch.Size([4, 224, 224])\n"
     ]
    }
   ],
   "source": [
    "data = dataset[0]"
   ]
  },
  {
   "cell_type": "code",
   "execution_count": 7,
   "metadata": {},
   "outputs": [
    {
     "name": "stdout",
     "output_type": "stream",
     "text": [
      "Jupyter environment detected. Enabling Open3D WebVisualizer.\n",
      "[Open3D INFO] WebRTC GUI backend enabled.\n",
      "[Open3D INFO] WebRTCWindowSystem: HTTP handshake server disabled.\n",
      "(1024, 3)\n"
     ]
    },
    {
     "data": {
      "text/plain": [
       "True"
      ]
     },
     "execution_count": 7,
     "metadata": {},
     "output_type": "execute_result"
    }
   ],
   "source": [
    "import open3d as o3d\n",
    "import torch\n",
    "pcd = o3d.geometry.PointCloud()\n",
    "\n",
    "data_pcl = torch.reshape(data['pcl'], ( 1024, 3)).numpy()\n",
    "print(data_pcl.shape)\n",
    "\n",
    "pcd.points = o3d.utility.Vector3dVector(data_pcl)\n",
    "o3d.io.write_point_cloud(\"./data.ply\", pcd)"
   ]
  },
  {
   "cell_type": "code",
   "execution_count": 8,
   "metadata": {},
   "outputs": [
    {
     "data": {
      "text/plain": [
       "'f7110ecac70994a83820d8f180caa23a'"
      ]
     },
     "execution_count": 8,
     "metadata": {},
     "output_type": "execute_result"
    }
   ],
   "source": [
    "data['name']"
   ]
  },
  {
   "cell_type": "code",
   "execution_count": 9,
   "metadata": {},
   "outputs": [],
   "source": [
    "import matplotlib.pyplot as plt"
   ]
  },
  {
   "cell_type": "code",
   "execution_count": 10,
   "metadata": {},
   "outputs": [
    {
     "name": "stdout",
     "output_type": "stream",
     "text": [
      "torch.Size([4, 224, 224])\n"
     ]
    },
    {
     "data": {
      "text/plain": [
       "<matplotlib.image.AxesImage at 0x7fe049236af0>"
      ]
     },
     "execution_count": 10,
     "metadata": {},
     "output_type": "execute_result"
    },
    {
     "data": {
      "image/png": "[encoded data removed]",
      "text/plain": [
       "<Figure size 432x288 with 1 Axes>"
      ]
     },
     "metadata": {
      "needs_background": "light"
     },
     "output_type": "display_data"
    }
   ],
   "source": [
    "tensor_image = data['img_rgb']\n",
    "print(tensor_image.shape)\n",
    "plt.imshow(  tensor_image.permute(1, 2, 0)  )"
   ]
  },
  {
   "cell_type": "code",
   "execution_count": 11,
   "metadata": {},
   "outputs": [
    {
     "name": "stdout",
     "output_type": "stream",
     "text": [
      "torch.Size([3, 224, 224])\n"
     ]
    },
    {
     "data": {
      "text/plain": [
       "<matplotlib.image.AxesImage at 0x7fe0491699a0>"
      ]
     },
     "execution_count": 11,
     "metadata": {},
     "output_type": "execute_result"
    },
    {
     "data": {
      "image/png": "[encoded data removed]",
      "text/plain": [
       "<Figure size 432x288 with 1 Axes>"
      ]
     },
     "metadata": {
      "needs_background": "light"
     },
     "output_type": "display_data"
    }
   ],
   "source": [
    "tensor_image = data['img_rgb'][:3,...]\n",
    "print(tensor_image.shape)\n",
    "plt.imshow(  tensor_image.permute(1, 2, 0)  )\n"
   ]
  },
  {
   "cell_type": "code",
   "execution_count": 12,
   "metadata": {},
   "outputs": [
    {
     "name": "stdout",
     "output_type": "stream",
     "text": [
      "torch.Size([1, 224, 224])\n"
     ]
    },
    {
     "data": {
      "text/plain": [
       "<matplotlib.image.AxesImage at 0x7fe0490ea250>"
      ]
     },
     "execution_count": 12,
     "metadata": {},
     "output_type": "execute_result"
    },
    {
     "data": {
      "image/png": "[encoded data removed]",
      "text/plain": [
       "<Figure size 432x288 with 1 Axes>"
      ]
     },
     "metadata": {
      "needs_background": "light"
     },
     "output_type": "display_data"
    }
   ],
   "source": [
    "tensor_image = data['img_mask']\n",
    "print(tensor_image.shape)\n",
    "plt.imshow(  tensor_image.permute(1, 2, 0)  )"
   ]
  },
  {
   "cell_type": "code",
   "execution_count": 13,
   "metadata": {},
   "outputs": [
    {
     "data": {
      "text/plain": [
       "torch.Size([3, 1024])"
      ]
     },
     "execution_count": 13,
     "metadata": {},
     "output_type": "execute_result"
    }
   ],
   "source": [
    "data['pcl'].shape"
   ]
  },
  {
   "cell_type": "code",
   "execution_count": 14,
   "metadata": {},
   "outputs": [
    {
     "name": "stdout",
     "output_type": "stream",
     "text": [
      "Requirement already satisfied: torchsummary in /home/varsha/.local/lib/python3.8/site-packages (1.5.1)\n",
      "Note: you may need to restart the kernel to use updated packages.\n"
     ]
    }
   ],
   "source": [
    "%pip install torchsummary"
   ]
  },
  {
   "cell_type": "code",
   "execution_count": 15,
   "metadata": {},
   "outputs": [
    {
     "name": "stdout",
     "output_type": "stream",
     "text": [
      "torch.Size([2, 3072])\n",
      "torch.Size([2, 3, 1024])\n",
      "----------------------------------------------------------------\n",
      "        Layer (type)               Output Shape         Param #\n",
      "================================================================\n",
      "            Conv2d-1         [-1, 32, 112, 112]           1,184\n",
      "              ReLU-2         [-1, 32, 112, 112]               0\n",
      "            Conv2d-3           [-1, 64, 56, 56]          18,496\n",
      "              ReLU-4           [-1, 64, 56, 56]               0\n",
      "            Conv2d-5          [-1, 128, 28, 28]          73,856\n",
      "              ReLU-6          [-1, 128, 28, 28]               0\n",
      "            Conv2d-7          [-1, 256, 14, 14]         295,168\n",
      "              ReLU-8          [-1, 256, 14, 14]               0\n",
      "            Linear-9                  [-1, 128]       6,422,656\n",
      "             ReLU-10                  [-1, 128]               0\n",
      "           Linear-11                  [-1, 128]          16,512\n",
      "             ReLU-12                  [-1, 128]               0\n",
      "           Linear-13                 [-1, 3072]         396,288\n",
      "================================================================\n",
      "Total params: 7,224,160\n",
      "Trainable params: 7,224,160\n",
      "Non-trainable params: 0\n",
      "----------------------------------------------------------------\n",
      "Input size (MB): 0.77\n",
      "Forward/backward pass size (MB): 11.51\n",
      "Params size (MB): 27.56\n",
      "Estimated Total Size (MB): 39.84\n",
      "----------------------------------------------------------------\n",
      "None\n"
     ]
    }
   ],
   "source": [
    "from src.network_architecture.recon_model import ReconstructionNet\n",
    "from torchsummary import summary\n",
    "\n",
    "cnn3d = ReconstructionNet()\n",
    "print(summary(cnn3d, input_size=(4,224,224))) \n"
   ]
  },
  {
   "cell_type": "code",
   "execution_count": 44,
   "metadata": {},
   "outputs": [
    {
     "data": {
      "text/html": [
       "Tracking run with wandb version 0.12.21"
      ],
      "text/plain": [
       "<IPython.core.display.HTML object>"
      ]
     },
     "metadata": {},
     "output_type": "display_data"
    },
    {
     "data": {
      "text/html": [
       "Run data is saved locally in <code>/home/varsha/Code/ml3d/project/ssl_3d_recon_pytorch/wandb/run-20220706_223114-2ftv28c2</code>"
      ],
      "text/plain": [
       "<IPython.core.display.HTML object>"
      ]
     },
     "metadata": {},
     "output_type": "display_data"
    },
    {
     "data": {
      "text/html": [
       "Syncing run <strong><a href=\"https://wandb.ai/varsha_r/recon_run/runs/2ftv28c2\" target=\"_blank\">tough-bee-22</a></strong> to <a href=\"https://wandb.ai/varsha_r/recon_run\" target=\"_blank\">Weights & Biases</a> (<a href=\"https://wandb.me/run\" target=\"_blank\">docs</a>)<br/>"
      ],
      "text/plain": [
       "<IPython.core.display.HTML object>"
      ]
     },
     "metadata": {},
     "output_type": "display_data"
    },
    {
     "name": "stdout",
     "output_type": "stream",
     "text": [
      "(1, 1)\n",
      "(1, 1)\n",
      "0\n",
      "torch.Size([4, 224, 224])\n",
      "torch.Size([1, 256, 14, 14])\n",
      "torch.Size([1, 50176])\n",
      "torch.Size([1, 3072])\n",
      "torch.Size([1, 3, 1024])\n",
      "prediction shape:  torch.Size([1, 3, 1024])\n",
      "0\n",
      "torch.Size([4, 224, 224])\n",
      "torch.Size([1, 4, 224, 224])\n",
      "torch.Size([1, 256, 14, 14])\n",
      "torch.Size([1, 50176])\n",
      "torch.Size([1, 3072])\n",
      "torch.Size([1, 3, 1024])\n",
      "[000/00000] val_loss: 0.028\n",
      "0\n",
      "torch.Size([4, 224, 224])\n",
      "torch.Size([1, 256, 14, 14])\n",
      "torch.Size([1, 50176])\n",
      "torch.Size([1, 3072])\n",
      "torch.Size([1, 3, 1024])\n",
      "prediction shape:  torch.Size([1, 3, 1024])\n",
      "0\n",
      "torch.Size([4, 224, 224])\n",
      "torch.Size([1, 4, 224, 224])\n",
      "torch.Size([1, 256, 14, 14])\n",
      "torch.Size([1, 50176])\n",
      "torch.Size([1, 3072])\n",
      "torch.Size([1, 3, 1024])\n",
      "[001/00000] val_loss: 0.028\n",
      "0\n",
      "torch.Size([4, 224, 224])\n",
      "torch.Size([1, 256, 14, 14])\n",
      "torch.Size([1, 50176])\n",
      "torch.Size([1, 3072])\n",
      "torch.Size([1, 3, 1024])\n",
      "prediction shape:  torch.Size([1, 3, 1024])\n",
      "0\n",
      "torch.Size([4, 224, 224])\n",
      "torch.Size([1, 4, 224, 224])\n",
      "torch.Size([1, 256, 14, 14])\n",
      "torch.Size([1, 50176])\n",
      "torch.Size([1, 3072])\n",
      "torch.Size([1, 3, 1024])\n",
      "[002/00000] val_loss: 0.027\n",
      "0\n",
      "torch.Size([4, 224, 224])\n",
      "torch.Size([1, 256, 14, 14])\n",
      "torch.Size([1, 50176])\n",
      "torch.Size([1, 3072])\n",
      "torch.Size([1, 3, 1024])\n",
      "prediction shape:  torch.Size([1, 3, 1024])\n",
      "0\n",
      "torch.Size([4, 224, 224])\n",
      "torch.Size([1, 4, 224, 224])\n",
      "torch.Size([1, 256, 14, 14])\n",
      "torch.Size([1, 50176])\n",
      "torch.Size([1, 3072])\n",
      "torch.Size([1, 3, 1024])\n",
      "[003/00000] val_loss: 0.027\n",
      "0\n",
      "torch.Size([4, 224, 224])\n",
      "torch.Size([1, 256, 14, 14])\n",
      "torch.Size([1, 50176])\n",
      "torch.Size([1, 3072])\n",
      "torch.Size([1, 3, 1024])\n",
      "prediction shape:  torch.Size([1, 3, 1024])\n",
      "0\n",
      "torch.Size([4, 224, 224])\n",
      "torch.Size([1, 4, 224, 224])\n",
      "torch.Size([1, 256, 14, 14])\n",
      "torch.Size([1, 50176])\n",
      "torch.Size([1, 3072])\n",
      "torch.Size([1, 3, 1024])\n",
      "[004/00000] val_loss: 0.026\n",
      "0\n",
      "torch.Size([4, 224, 224])\n",
      "torch.Size([1, 256, 14, 14])\n",
      "torch.Size([1, 50176])\n",
      "torch.Size([1, 3072])\n",
      "torch.Size([1, 3, 1024])\n",
      "prediction shape:  torch.Size([1, 3, 1024])\n",
      "0\n",
      "torch.Size([4, 224, 224])\n",
      "torch.Size([1, 4, 224, 224])\n",
      "torch.Size([1, 256, 14, 14])\n",
      "torch.Size([1, 50176])\n",
      "torch.Size([1, 3072])\n",
      "torch.Size([1, 3, 1024])\n",
      "[005/00000] val_loss: 0.025\n",
      "0\n",
      "torch.Size([4, 224, 224])\n",
      "torch.Size([1, 256, 14, 14])\n",
      "torch.Size([1, 50176])\n",
      "torch.Size([1, 3072])\n",
      "torch.Size([1, 3, 1024])\n",
      "prediction shape:  torch.Size([1, 3, 1024])\n",
      "0\n",
      "torch.Size([4, 224, 224])\n",
      "torch.Size([1, 4, 224, 224])\n",
      "torch.Size([1, 256, 14, 14])\n",
      "torch.Size([1, 50176])\n",
      "torch.Size([1, 3072])\n",
      "torch.Size([1, 3, 1024])\n",
      "[006/00000] val_loss: 0.025\n",
      "0\n",
      "torch.Size([4, 224, 224])\n",
      "torch.Size([1, 256, 14, 14])\n",
      "torch.Size([1, 50176])\n",
      "torch.Size([1, 3072])\n",
      "torch.Size([1, 3, 1024])\n",
      "prediction shape:  torch.Size([1, 3, 1024])\n",
      "0\n",
      "torch.Size([4, 224, 224])\n",
      "torch.Size([1, 4, 224, 224])\n",
      "torch.Size([1, 256, 14, 14])\n",
      "torch.Size([1, 50176])\n",
      "torch.Size([1, 3072])\n",
      "torch.Size([1, 3, 1024])\n",
      "[007/00000] val_loss: 0.024\n",
      "0\n",
      "torch.Size([4, 224, 224])\n",
      "torch.Size([1, 256, 14, 14])\n",
      "torch.Size([1, 50176])\n",
      "torch.Size([1, 3072])\n",
      "torch.Size([1, 3, 1024])\n",
      "prediction shape:  torch.Size([1, 3, 1024])\n",
      "0\n",
      "torch.Size([4, 224, 224])\n",
      "torch.Size([1, 4, 224, 224])\n",
      "torch.Size([1, 256, 14, 14])\n",
      "torch.Size([1, 50176])\n",
      "torch.Size([1, 3072])\n",
      "torch.Size([1, 3, 1024])\n",
      "[008/00000] val_loss: 0.023\n",
      "0\n",
      "torch.Size([4, 224, 224])\n",
      "torch.Size([1, 256, 14, 14])\n",
      "torch.Size([1, 50176])\n",
      "torch.Size([1, 3072])\n",
      "torch.Size([1, 3, 1024])\n",
      "prediction shape:  torch.Size([1, 3, 1024])\n",
      "0\n",
      "torch.Size([4, 224, 224])\n",
      "torch.Size([1, 4, 224, 224])\n",
      "torch.Size([1, 256, 14, 14])\n",
      "torch.Size([1, 50176])\n",
      "torch.Size([1, 3072])\n",
      "torch.Size([1, 3, 1024])\n",
      "[009/00000] val_loss: 0.022\n",
      "0\n",
      "torch.Size([4, 224, 224])\n",
      "torch.Size([1, 256, 14, 14])\n",
      "torch.Size([1, 50176])\n",
      "torch.Size([1, 3072])\n",
      "torch.Size([1, 3, 1024])\n",
      "prediction shape:  torch.Size([1, 3, 1024])\n",
      "0\n",
      "torch.Size([4, 224, 224])\n",
      "torch.Size([1, 4, 224, 224])\n",
      "torch.Size([1, 256, 14, 14])\n",
      "torch.Size([1, 50176])\n",
      "torch.Size([1, 3072])\n",
      "torch.Size([1, 3, 1024])\n",
      "[010/00000] val_loss: 0.021\n",
      "0\n",
      "torch.Size([4, 224, 224])\n",
      "torch.Size([1, 256, 14, 14])\n",
      "torch.Size([1, 50176])\n",
      "torch.Size([1, 3072])\n",
      "torch.Size([1, 3, 1024])\n",
      "prediction shape:  torch.Size([1, 3, 1024])\n",
      "0\n",
      "torch.Size([4, 224, 224])\n",
      "torch.Size([1, 4, 224, 224])\n",
      "torch.Size([1, 256, 14, 14])\n",
      "torch.Size([1, 50176])\n",
      "torch.Size([1, 3072])\n",
      "torch.Size([1, 3, 1024])\n",
      "[011/00000] val_loss: 0.020\n",
      "0\n",
      "torch.Size([4, 224, 224])\n",
      "torch.Size([1, 256, 14, 14])\n",
      "torch.Size([1, 50176])\n",
      "torch.Size([1, 3072])\n",
      "torch.Size([1, 3, 1024])\n",
      "prediction shape:  torch.Size([1, 3, 1024])\n",
      "0\n",
      "torch.Size([4, 224, 224])\n",
      "torch.Size([1, 4, 224, 224])\n",
      "torch.Size([1, 256, 14, 14])\n",
      "torch.Size([1, 50176])\n",
      "torch.Size([1, 3072])\n",
      "torch.Size([1, 3, 1024])\n",
      "[012/00000] val_loss: 0.019\n",
      "0\n",
      "torch.Size([4, 224, 224])\n",
      "torch.Size([1, 256, 14, 14])\n",
      "torch.Size([1, 50176])\n",
      "torch.Size([1, 3072])\n",
      "torch.Size([1, 3, 1024])\n",
      "prediction shape:  torch.Size([1, 3, 1024])\n",
      "0\n",
      "torch.Size([4, 224, 224])\n",
      "torch.Size([1, 4, 224, 224])\n",
      "torch.Size([1, 256, 14, 14])\n",
      "torch.Size([1, 50176])\n",
      "torch.Size([1, 3072])\n",
      "torch.Size([1, 3, 1024])\n",
      "[013/00000] val_loss: 0.018\n",
      "0\n",
      "torch.Size([4, 224, 224])\n",
      "torch.Size([1, 256, 14, 14])\n",
      "torch.Size([1, 50176])\n",
      "torch.Size([1, 3072])\n",
      "torch.Size([1, 3, 1024])\n",
      "prediction shape:  torch.Size([1, 3, 1024])\n",
      "0\n",
      "torch.Size([4, 224, 224])\n",
      "torch.Size([1, 4, 224, 224])\n",
      "torch.Size([1, 256, 14, 14])\n",
      "torch.Size([1, 50176])\n",
      "torch.Size([1, 3072])\n",
      "torch.Size([1, 3, 1024])\n",
      "[014/00000] val_loss: 0.017\n",
      "0\n",
      "torch.Size([4, 224, 224])\n",
      "torch.Size([1, 256, 14, 14])\n",
      "torch.Size([1, 50176])\n",
      "torch.Size([1, 3072])\n",
      "torch.Size([1, 3, 1024])\n",
      "prediction shape:  torch.Size([1, 3, 1024])\n",
      "0\n",
      "torch.Size([4, 224, 224])\n",
      "torch.Size([1, 4, 224, 224])\n",
      "torch.Size([1, 256, 14, 14])\n",
      "torch.Size([1, 50176])\n",
      "torch.Size([1, 3072])\n",
      "torch.Size([1, 3, 1024])\n",
      "[015/00000] val_loss: 0.016\n",
      "0\n",
      "torch.Size([4, 224, 224])\n",
      "torch.Size([1, 256, 14, 14])\n",
      "torch.Size([1, 50176])\n",
      "torch.Size([1, 3072])\n",
      "torch.Size([1, 3, 1024])\n",
      "prediction shape:  torch.Size([1, 3, 1024])\n",
      "0\n",
      "torch.Size([4, 224, 224])\n",
      "torch.Size([1, 4, 224, 224])\n",
      "torch.Size([1, 256, 14, 14])\n",
      "torch.Size([1, 50176])\n",
      "torch.Size([1, 3072])\n",
      "torch.Size([1, 3, 1024])\n",
      "[016/00000] val_loss: 0.015\n",
      "0\n",
      "torch.Size([4, 224, 224])\n",
      "torch.Size([1, 256, 14, 14])\n",
      "torch.Size([1, 50176])\n",
      "torch.Size([1, 3072])\n",
      "torch.Size([1, 3, 1024])\n",
      "prediction shape:  torch.Size([1, 3, 1024])\n",
      "0\n",
      "torch.Size([4, 224, 224])\n",
      "torch.Size([1, 4, 224, 224])\n",
      "torch.Size([1, 256, 14, 14])\n",
      "torch.Size([1, 50176])\n",
      "torch.Size([1, 3072])\n",
      "torch.Size([1, 3, 1024])\n",
      "[017/00000] val_loss: 0.014\n",
      "0\n",
      "torch.Size([4, 224, 224])\n",
      "torch.Size([1, 256, 14, 14])\n",
      "torch.Size([1, 50176])\n",
      "torch.Size([1, 3072])\n",
      "torch.Size([1, 3, 1024])\n",
      "prediction shape:  torch.Size([1, 3, 1024])\n",
      "0\n",
      "torch.Size([4, 224, 224])\n",
      "torch.Size([1, 4, 224, 224])\n",
      "torch.Size([1, 256, 14, 14])\n",
      "torch.Size([1, 50176])\n",
      "torch.Size([1, 3072])\n",
      "torch.Size([1, 3, 1024])\n",
      "[018/00000] val_loss: 0.013\n",
      "0\n",
      "torch.Size([4, 224, 224])\n",
      "torch.Size([1, 256, 14, 14])\n",
      "torch.Size([1, 50176])\n",
      "torch.Size([1, 3072])\n",
      "torch.Size([1, 3, 1024])\n",
      "prediction shape:  torch.Size([1, 3, 1024])\n",
      "0\n",
      "torch.Size([4, 224, 224])\n",
      "torch.Size([1, 4, 224, 224])\n",
      "torch.Size([1, 256, 14, 14])\n",
      "torch.Size([1, 50176])\n",
      "torch.Size([1, 3072])\n",
      "torch.Size([1, 3, 1024])\n",
      "[019/00000] val_loss: 0.011\n",
      "0\n",
      "torch.Size([4, 224, 224])\n",
      "torch.Size([1, 256, 14, 14])\n",
      "torch.Size([1, 50176])\n",
      "torch.Size([1, 3072])\n",
      "torch.Size([1, 3, 1024])\n",
      "prediction shape:  torch.Size([1, 3, 1024])\n",
      "0\n",
      "torch.Size([4, 224, 224])\n",
      "torch.Size([1, 4, 224, 224])\n",
      "torch.Size([1, 256, 14, 14])\n",
      "torch.Size([1, 50176])\n",
      "torch.Size([1, 3072])\n",
      "torch.Size([1, 3, 1024])\n",
      "[020/00000] val_loss: 0.010\n",
      "0\n",
      "torch.Size([4, 224, 224])\n",
      "torch.Size([1, 256, 14, 14])\n",
      "torch.Size([1, 50176])\n",
      "torch.Size([1, 3072])\n",
      "torch.Size([1, 3, 1024])\n",
      "prediction shape:  torch.Size([1, 3, 1024])\n",
      "0\n",
      "torch.Size([4, 224, 224])\n",
      "torch.Size([1, 4, 224, 224])\n",
      "torch.Size([1, 256, 14, 14])\n",
      "torch.Size([1, 50176])\n",
      "torch.Size([1, 3072])\n",
      "torch.Size([1, 3, 1024])\n",
      "[021/00000] val_loss: 0.010\n",
      "0\n",
      "torch.Size([4, 224, 224])\n",
      "torch.Size([1, 256, 14, 14])\n",
      "torch.Size([1, 50176])\n",
      "torch.Size([1, 3072])\n",
      "torch.Size([1, 3, 1024])\n",
      "prediction shape:  torch.Size([1, 3, 1024])\n",
      "0\n",
      "torch.Size([4, 224, 224])\n",
      "torch.Size([1, 4, 224, 224])\n",
      "torch.Size([1, 256, 14, 14])\n",
      "torch.Size([1, 50176])\n",
      "torch.Size([1, 3072])\n",
      "torch.Size([1, 3, 1024])\n",
      "[022/00000] val_loss: 0.009\n",
      "0\n",
      "torch.Size([4, 224, 224])\n"
     ]
    },
    {
     "name": "stdout",
     "output_type": "stream",
     "text": [
      "torch.Size([1, 256, 14, 14])\n",
      "torch.Size([1, 50176])\n",
      "torch.Size([1, 3072])\n",
      "torch.Size([1, 3, 1024])\n",
      "prediction shape:  torch.Size([1, 3, 1024])\n",
      "0\n",
      "torch.Size([4, 224, 224])\n",
      "torch.Size([1, 4, 224, 224])\n",
      "torch.Size([1, 256, 14, 14])\n",
      "torch.Size([1, 50176])\n",
      "torch.Size([1, 3072])\n",
      "torch.Size([1, 3, 1024])\n",
      "[023/00000] val_loss: 0.008\n",
      "0\n",
      "torch.Size([4, 224, 224])\n",
      "torch.Size([1, 256, 14, 14])\n",
      "torch.Size([1, 50176])\n",
      "torch.Size([1, 3072])\n",
      "torch.Size([1, 3, 1024])\n",
      "prediction shape:  torch.Size([1, 3, 1024])\n",
      "0\n",
      "torch.Size([4, 224, 224])\n",
      "torch.Size([1, 4, 224, 224])\n",
      "torch.Size([1, 256, 14, 14])\n",
      "torch.Size([1, 50176])\n",
      "torch.Size([1, 3072])\n",
      "torch.Size([1, 3, 1024])\n",
      "[024/00000] val_loss: 0.007\n",
      "0\n",
      "torch.Size([4, 224, 224])\n",
      "torch.Size([1, 256, 14, 14])\n",
      "torch.Size([1, 50176])\n",
      "torch.Size([1, 3072])\n",
      "torch.Size([1, 3, 1024])\n",
      "prediction shape:  torch.Size([1, 3, 1024])\n",
      "0\n",
      "torch.Size([4, 224, 224])\n",
      "torch.Size([1, 4, 224, 224])\n",
      "torch.Size([1, 256, 14, 14])\n",
      "torch.Size([1, 50176])\n",
      "torch.Size([1, 3072])\n",
      "torch.Size([1, 3, 1024])\n",
      "[025/00000] val_loss: 0.006\n",
      "0\n",
      "torch.Size([4, 224, 224])\n",
      "torch.Size([1, 256, 14, 14])\n",
      "torch.Size([1, 50176])\n",
      "torch.Size([1, 3072])\n",
      "torch.Size([1, 3, 1024])\n",
      "prediction shape:  torch.Size([1, 3, 1024])\n",
      "0\n",
      "torch.Size([4, 224, 224])\n",
      "torch.Size([1, 4, 224, 224])\n",
      "torch.Size([1, 256, 14, 14])\n",
      "torch.Size([1, 50176])\n",
      "torch.Size([1, 3072])\n",
      "torch.Size([1, 3, 1024])\n",
      "[026/00000] val_loss: 0.006\n",
      "0\n",
      "torch.Size([4, 224, 224])\n",
      "torch.Size([1, 256, 14, 14])\n",
      "torch.Size([1, 50176])\n",
      "torch.Size([1, 3072])\n",
      "torch.Size([1, 3, 1024])\n",
      "prediction shape:  torch.Size([1, 3, 1024])\n",
      "0\n",
      "torch.Size([4, 224, 224])\n",
      "torch.Size([1, 4, 224, 224])\n",
      "torch.Size([1, 256, 14, 14])\n",
      "torch.Size([1, 50176])\n",
      "torch.Size([1, 3072])\n",
      "torch.Size([1, 3, 1024])\n",
      "[027/00000] val_loss: 0.005\n",
      "0\n",
      "torch.Size([4, 224, 224])\n",
      "torch.Size([1, 256, 14, 14])\n",
      "torch.Size([1, 50176])\n",
      "torch.Size([1, 3072])\n",
      "torch.Size([1, 3, 1024])\n",
      "prediction shape:  torch.Size([1, 3, 1024])\n",
      "0\n",
      "torch.Size([4, 224, 224])\n",
      "torch.Size([1, 4, 224, 224])\n",
      "torch.Size([1, 256, 14, 14])\n",
      "torch.Size([1, 50176])\n",
      "torch.Size([1, 3072])\n",
      "torch.Size([1, 3, 1024])\n",
      "[028/00000] val_loss: 0.004\n",
      "0\n",
      "torch.Size([4, 224, 224])\n",
      "torch.Size([1, 256, 14, 14])\n",
      "torch.Size([1, 50176])\n",
      "torch.Size([1, 3072])\n",
      "torch.Size([1, 3, 1024])\n",
      "prediction shape:  torch.Size([1, 3, 1024])\n",
      "0\n",
      "torch.Size([4, 224, 224])\n",
      "torch.Size([1, 4, 224, 224])\n",
      "torch.Size([1, 256, 14, 14])\n",
      "torch.Size([1, 50176])\n",
      "torch.Size([1, 3072])\n",
      "torch.Size([1, 3, 1024])\n",
      "[029/00000] val_loss: 0.004\n",
      "0\n",
      "torch.Size([4, 224, 224])\n",
      "torch.Size([1, 256, 14, 14])\n",
      "torch.Size([1, 50176])\n",
      "torch.Size([1, 3072])\n",
      "torch.Size([1, 3, 1024])\n",
      "prediction shape:  torch.Size([1, 3, 1024])\n",
      "0\n",
      "torch.Size([4, 224, 224])\n",
      "torch.Size([1, 4, 224, 224])\n",
      "torch.Size([1, 256, 14, 14])\n",
      "torch.Size([1, 50176])\n",
      "torch.Size([1, 3072])\n",
      "torch.Size([1, 3, 1024])\n",
      "[030/00000] val_loss: 0.004\n",
      "0\n",
      "torch.Size([4, 224, 224])\n",
      "torch.Size([1, 256, 14, 14])\n",
      "torch.Size([1, 50176])\n",
      "torch.Size([1, 3072])\n",
      "torch.Size([1, 3, 1024])\n",
      "prediction shape:  torch.Size([1, 3, 1024])\n",
      "0\n",
      "torch.Size([4, 224, 224])\n",
      "torch.Size([1, 4, 224, 224])\n",
      "torch.Size([1, 256, 14, 14])\n",
      "torch.Size([1, 50176])\n",
      "torch.Size([1, 3072])\n",
      "torch.Size([1, 3, 1024])\n",
      "[031/00000] val_loss: 0.003\n",
      "0\n",
      "torch.Size([4, 224, 224])\n",
      "torch.Size([1, 256, 14, 14])\n",
      "torch.Size([1, 50176])\n",
      "torch.Size([1, 3072])\n",
      "torch.Size([1, 3, 1024])\n",
      "prediction shape:  torch.Size([1, 3, 1024])\n",
      "0\n",
      "torch.Size([4, 224, 224])\n",
      "torch.Size([1, 4, 224, 224])\n",
      "torch.Size([1, 256, 14, 14])\n",
      "torch.Size([1, 50176])\n",
      "torch.Size([1, 3072])\n",
      "torch.Size([1, 3, 1024])\n",
      "[032/00000] val_loss: 0.003\n",
      "0\n",
      "torch.Size([4, 224, 224])\n",
      "torch.Size([1, 256, 14, 14])\n",
      "torch.Size([1, 50176])\n",
      "torch.Size([1, 3072])\n",
      "torch.Size([1, 3, 1024])\n",
      "prediction shape:  torch.Size([1, 3, 1024])\n",
      "0\n",
      "torch.Size([4, 224, 224])\n",
      "torch.Size([1, 4, 224, 224])\n",
      "torch.Size([1, 256, 14, 14])\n",
      "torch.Size([1, 50176])\n",
      "torch.Size([1, 3072])\n",
      "torch.Size([1, 3, 1024])\n",
      "[033/00000] val_loss: 0.003\n",
      "0\n",
      "torch.Size([4, 224, 224])\n",
      "torch.Size([1, 256, 14, 14])\n",
      "torch.Size([1, 50176])\n",
      "torch.Size([1, 3072])\n",
      "torch.Size([1, 3, 1024])\n",
      "prediction shape:  torch.Size([1, 3, 1024])\n",
      "0\n",
      "torch.Size([4, 224, 224])\n",
      "torch.Size([1, 4, 224, 224])\n",
      "torch.Size([1, 256, 14, 14])\n",
      "torch.Size([1, 50176])\n",
      "torch.Size([1, 3072])\n",
      "torch.Size([1, 3, 1024])\n",
      "[034/00000] val_loss: 0.002\n",
      "0\n",
      "torch.Size([4, 224, 224])\n",
      "torch.Size([1, 256, 14, 14])\n",
      "torch.Size([1, 50176])\n",
      "torch.Size([1, 3072])\n",
      "torch.Size([1, 3, 1024])\n",
      "prediction shape:  torch.Size([1, 3, 1024])\n",
      "0\n",
      "torch.Size([4, 224, 224])\n",
      "torch.Size([1, 4, 224, 224])\n",
      "torch.Size([1, 256, 14, 14])\n",
      "torch.Size([1, 50176])\n",
      "torch.Size([1, 3072])\n",
      "torch.Size([1, 3, 1024])\n",
      "[035/00000] val_loss: 0.002\n",
      "0\n",
      "torch.Size([4, 224, 224])\n",
      "torch.Size([1, 256, 14, 14])\n",
      "torch.Size([1, 50176])\n",
      "torch.Size([1, 3072])\n",
      "torch.Size([1, 3, 1024])\n",
      "prediction shape:  torch.Size([1, 3, 1024])\n",
      "0\n",
      "torch.Size([4, 224, 224])\n",
      "torch.Size([1, 4, 224, 224])\n",
      "torch.Size([1, 256, 14, 14])\n",
      "torch.Size([1, 50176])\n",
      "torch.Size([1, 3072])\n",
      "torch.Size([1, 3, 1024])\n",
      "[036/00000] val_loss: 0.002\n",
      "0\n",
      "torch.Size([4, 224, 224])\n",
      "torch.Size([1, 256, 14, 14])\n",
      "torch.Size([1, 50176])\n",
      "torch.Size([1, 3072])\n",
      "torch.Size([1, 3, 1024])\n",
      "prediction shape:  torch.Size([1, 3, 1024])\n",
      "0\n",
      "torch.Size([4, 224, 224])\n",
      "torch.Size([1, 4, 224, 224])\n",
      "torch.Size([1, 256, 14, 14])\n",
      "torch.Size([1, 50176])\n",
      "torch.Size([1, 3072])\n",
      "torch.Size([1, 3, 1024])\n",
      "[037/00000] val_loss: 0.002\n",
      "0\n",
      "torch.Size([4, 224, 224])\n",
      "torch.Size([1, 256, 14, 14])\n",
      "torch.Size([1, 50176])\n",
      "torch.Size([1, 3072])\n",
      "torch.Size([1, 3, 1024])\n",
      "prediction shape:  torch.Size([1, 3, 1024])\n",
      "0\n",
      "torch.Size([4, 224, 224])\n",
      "torch.Size([1, 4, 224, 224])\n",
      "torch.Size([1, 256, 14, 14])\n",
      "torch.Size([1, 50176])\n",
      "torch.Size([1, 3072])\n",
      "torch.Size([1, 3, 1024])\n",
      "[038/00000] val_loss: 0.001\n",
      "0\n",
      "torch.Size([4, 224, 224])\n",
      "torch.Size([1, 256, 14, 14])\n",
      "torch.Size([1, 50176])\n",
      "torch.Size([1, 3072])\n",
      "torch.Size([1, 3, 1024])\n",
      "prediction shape:  torch.Size([1, 3, 1024])\n",
      "0\n",
      "torch.Size([4, 224, 224])\n",
      "torch.Size([1, 4, 224, 224])\n",
      "torch.Size([1, 256, 14, 14])\n",
      "torch.Size([1, 50176])\n",
      "torch.Size([1, 3072])\n",
      "torch.Size([1, 3, 1024])\n",
      "[039/00000] val_loss: 0.001\n",
      "0\n",
      "torch.Size([4, 224, 224])\n",
      "torch.Size([1, 256, 14, 14])\n",
      "torch.Size([1, 50176])\n",
      "torch.Size([1, 3072])\n",
      "torch.Size([1, 3, 1024])\n",
      "prediction shape:  torch.Size([1, 3, 1024])\n",
      "0\n",
      "torch.Size([4, 224, 224])\n",
      "torch.Size([1, 4, 224, 224])\n",
      "torch.Size([1, 256, 14, 14])\n",
      "torch.Size([1, 50176])\n",
      "torch.Size([1, 3072])\n",
      "torch.Size([1, 3, 1024])\n",
      "[040/00000] val_loss: 0.001\n",
      "0\n",
      "torch.Size([4, 224, 224])\n",
      "torch.Size([1, 256, 14, 14])\n",
      "torch.Size([1, 50176])\n",
      "torch.Size([1, 3072])\n",
      "torch.Size([1, 3, 1024])\n",
      "prediction shape:  torch.Size([1, 3, 1024])\n",
      "0\n",
      "torch.Size([4, 224, 224])\n",
      "torch.Size([1, 4, 224, 224])\n",
      "torch.Size([1, 256, 14, 14])\n",
      "torch.Size([1, 50176])\n",
      "torch.Size([1, 3072])\n",
      "torch.Size([1, 3, 1024])\n",
      "[041/00000] val_loss: 0.001\n",
      "0\n",
      "torch.Size([4, 224, 224])\n",
      "torch.Size([1, 256, 14, 14])\n",
      "torch.Size([1, 50176])\n",
      "torch.Size([1, 3072])\n",
      "torch.Size([1, 3, 1024])\n",
      "prediction shape:  torch.Size([1, 3, 1024])\n",
      "0\n",
      "torch.Size([4, 224, 224])\n",
      "torch.Size([1, 4, 224, 224])\n",
      "torch.Size([1, 256, 14, 14])\n",
      "torch.Size([1, 50176])\n",
      "torch.Size([1, 3072])\n",
      "torch.Size([1, 3, 1024])\n",
      "[042/00000] val_loss: 0.001\n",
      "0\n",
      "torch.Size([4, 224, 224])\n",
      "torch.Size([1, 256, 14, 14])\n",
      "torch.Size([1, 50176])\n",
      "torch.Size([1, 3072])\n",
      "torch.Size([1, 3, 1024])\n",
      "prediction shape:  torch.Size([1, 3, 1024])\n",
      "0\n",
      "torch.Size([4, 224, 224])\n",
      "torch.Size([1, 4, 224, 224])\n",
      "torch.Size([1, 256, 14, 14])\n",
      "torch.Size([1, 50176])\n",
      "torch.Size([1, 3072])\n",
      "torch.Size([1, 3, 1024])\n",
      "[043/00000] val_loss: 0.001\n",
      "0\n",
      "torch.Size([4, 224, 224])\n",
      "torch.Size([1, 256, 14, 14])\n",
      "torch.Size([1, 50176])\n",
      "torch.Size([1, 3072])\n",
      "torch.Size([1, 3, 1024])\n",
      "prediction shape:  torch.Size([1, 3, 1024])\n",
      "0\n",
      "torch.Size([4, 224, 224])\n",
      "torch.Size([1, 4, 224, 224])\n",
      "torch.Size([1, 256, 14, 14])\n",
      "torch.Size([1, 50176])\n",
      "torch.Size([1, 3072])\n",
      "torch.Size([1, 3, 1024])\n",
      "[044/00000] val_loss: 0.001\n",
      "0\n",
      "torch.Size([4, 224, 224])\n",
      "torch.Size([1, 256, 14, 14])\n",
      "torch.Size([1, 50176])\n",
      "torch.Size([1, 3072])\n",
      "torch.Size([1, 3, 1024])\n",
      "prediction shape:  torch.Size([1, 3, 1024])\n",
      "0\n",
      "torch.Size([4, 224, 224])\n",
      "torch.Size([1, 4, 224, 224])\n",
      "torch.Size([1, 256, 14, 14])\n",
      "torch.Size([1, 50176])\n",
      "torch.Size([1, 3072])\n",
      "torch.Size([1, 3, 1024])\n",
      "[045/00000] val_loss: 0.001\n",
      "0\n",
      "torch.Size([4, 224, 224])\n",
      "torch.Size([1, 256, 14, 14])\n",
      "torch.Size([1, 50176])\n",
      "torch.Size([1, 3072])\n",
      "torch.Size([1, 3, 1024])\n",
      "prediction shape:  torch.Size([1, 3, 1024])\n"
     ]
    },
    {
     "name": "stdout",
     "output_type": "stream",
     "text": [
      "0\n",
      "torch.Size([4, 224, 224])\n",
      "torch.Size([1, 4, 224, 224])\n",
      "torch.Size([1, 256, 14, 14])\n",
      "torch.Size([1, 50176])\n",
      "torch.Size([1, 3072])\n",
      "torch.Size([1, 3, 1024])\n",
      "[046/00000] val_loss: 0.001\n",
      "0\n",
      "torch.Size([4, 224, 224])\n",
      "torch.Size([1, 256, 14, 14])\n",
      "torch.Size([1, 50176])\n",
      "torch.Size([1, 3072])\n",
      "torch.Size([1, 3, 1024])\n",
      "prediction shape:  torch.Size([1, 3, 1024])\n",
      "0\n",
      "torch.Size([4, 224, 224])\n",
      "torch.Size([1, 4, 224, 224])\n",
      "torch.Size([1, 256, 14, 14])\n",
      "torch.Size([1, 50176])\n",
      "torch.Size([1, 3072])\n",
      "torch.Size([1, 3, 1024])\n",
      "[047/00000] val_loss: 0.001\n",
      "0\n",
      "torch.Size([4, 224, 224])\n",
      "torch.Size([1, 256, 14, 14])\n",
      "torch.Size([1, 50176])\n",
      "torch.Size([1, 3072])\n",
      "torch.Size([1, 3, 1024])\n",
      "prediction shape:  torch.Size([1, 3, 1024])\n",
      "0\n",
      "torch.Size([4, 224, 224])\n",
      "torch.Size([1, 4, 224, 224])\n",
      "torch.Size([1, 256, 14, 14])\n",
      "torch.Size([1, 50176])\n",
      "torch.Size([1, 3072])\n",
      "torch.Size([1, 3, 1024])\n",
      "[048/00000] val_loss: 0.000\n",
      "0\n",
      "torch.Size([4, 224, 224])\n",
      "torch.Size([1, 256, 14, 14])\n",
      "torch.Size([1, 50176])\n",
      "torch.Size([1, 3072])\n",
      "torch.Size([1, 3, 1024])\n",
      "prediction shape:  torch.Size([1, 3, 1024])\n",
      "0\n",
      "torch.Size([4, 224, 224])\n",
      "torch.Size([1, 4, 224, 224])\n",
      "torch.Size([1, 256, 14, 14])\n",
      "torch.Size([1, 50176])\n",
      "torch.Size([1, 3072])\n",
      "torch.Size([1, 3, 1024])\n",
      "[049/00000] val_loss: 0.000\n",
      "0\n",
      "torch.Size([4, 224, 224])\n",
      "torch.Size([1, 256, 14, 14])\n",
      "torch.Size([1, 50176])\n",
      "torch.Size([1, 3072])\n",
      "torch.Size([1, 3, 1024])\n",
      "prediction shape:  torch.Size([1, 3, 1024])\n",
      "0\n",
      "torch.Size([4, 224, 224])\n",
      "torch.Size([1, 4, 224, 224])\n",
      "torch.Size([1, 256, 14, 14])\n",
      "torch.Size([1, 50176])\n",
      "torch.Size([1, 3072])\n",
      "torch.Size([1, 3, 1024])\n",
      "[050/00000] val_loss: 0.000\n",
      "0\n",
      "torch.Size([4, 224, 224])\n",
      "torch.Size([1, 256, 14, 14])\n",
      "torch.Size([1, 50176])\n",
      "torch.Size([1, 3072])\n",
      "torch.Size([1, 3, 1024])\n",
      "prediction shape:  torch.Size([1, 3, 1024])\n",
      "0\n",
      "torch.Size([4, 224, 224])\n",
      "torch.Size([1, 4, 224, 224])\n",
      "torch.Size([1, 256, 14, 14])\n",
      "torch.Size([1, 50176])\n",
      "torch.Size([1, 3072])\n",
      "torch.Size([1, 3, 1024])\n",
      "[051/00000] val_loss: 0.000\n",
      "0\n",
      "torch.Size([4, 224, 224])\n",
      "torch.Size([1, 256, 14, 14])\n",
      "torch.Size([1, 50176])\n",
      "torch.Size([1, 3072])\n",
      "torch.Size([1, 3, 1024])\n",
      "prediction shape:  torch.Size([1, 3, 1024])\n",
      "0\n",
      "torch.Size([4, 224, 224])\n",
      "torch.Size([1, 4, 224, 224])\n",
      "torch.Size([1, 256, 14, 14])\n",
      "torch.Size([1, 50176])\n",
      "torch.Size([1, 3072])\n",
      "torch.Size([1, 3, 1024])\n",
      "[052/00000] val_loss: 0.000\n",
      "0\n",
      "torch.Size([4, 224, 224])\n",
      "torch.Size([1, 256, 14, 14])\n",
      "torch.Size([1, 50176])\n",
      "torch.Size([1, 3072])\n",
      "torch.Size([1, 3, 1024])\n",
      "prediction shape:  torch.Size([1, 3, 1024])\n",
      "0\n",
      "torch.Size([4, 224, 224])\n",
      "torch.Size([1, 4, 224, 224])\n",
      "torch.Size([1, 256, 14, 14])\n",
      "torch.Size([1, 50176])\n",
      "torch.Size([1, 3072])\n",
      "torch.Size([1, 3, 1024])\n",
      "[053/00000] val_loss: 0.000\n",
      "0\n",
      "torch.Size([4, 224, 224])\n",
      "torch.Size([1, 256, 14, 14])\n",
      "torch.Size([1, 50176])\n",
      "torch.Size([1, 3072])\n",
      "torch.Size([1, 3, 1024])\n",
      "prediction shape:  torch.Size([1, 3, 1024])\n",
      "0\n",
      "torch.Size([4, 224, 224])\n",
      "torch.Size([1, 4, 224, 224])\n",
      "torch.Size([1, 256, 14, 14])\n",
      "torch.Size([1, 50176])\n",
      "torch.Size([1, 3072])\n",
      "torch.Size([1, 3, 1024])\n",
      "[054/00000] val_loss: 0.000\n",
      "0\n",
      "torch.Size([4, 224, 224])\n",
      "torch.Size([1, 256, 14, 14])\n",
      "torch.Size([1, 50176])\n",
      "torch.Size([1, 3072])\n",
      "torch.Size([1, 3, 1024])\n",
      "prediction shape:  torch.Size([1, 3, 1024])\n",
      "0\n",
      "torch.Size([4, 224, 224])\n",
      "torch.Size([1, 4, 224, 224])\n",
      "torch.Size([1, 256, 14, 14])\n",
      "torch.Size([1, 50176])\n",
      "torch.Size([1, 3072])\n",
      "torch.Size([1, 3, 1024])\n",
      "[055/00000] val_loss: 0.000\n",
      "0\n",
      "torch.Size([4, 224, 224])\n",
      "torch.Size([1, 256, 14, 14])\n",
      "torch.Size([1, 50176])\n",
      "torch.Size([1, 3072])\n",
      "torch.Size([1, 3, 1024])\n",
      "prediction shape:  torch.Size([1, 3, 1024])\n",
      "0\n",
      "torch.Size([4, 224, 224])\n",
      "torch.Size([1, 4, 224, 224])\n",
      "torch.Size([1, 256, 14, 14])\n",
      "torch.Size([1, 50176])\n",
      "torch.Size([1, 3072])\n",
      "torch.Size([1, 3, 1024])\n",
      "[056/00000] val_loss: 0.000\n",
      "0\n",
      "torch.Size([4, 224, 224])\n",
      "torch.Size([1, 256, 14, 14])\n",
      "torch.Size([1, 50176])\n",
      "torch.Size([1, 3072])\n",
      "torch.Size([1, 3, 1024])\n",
      "prediction shape:  torch.Size([1, 3, 1024])\n",
      "0\n",
      "torch.Size([4, 224, 224])\n",
      "torch.Size([1, 4, 224, 224])\n",
      "torch.Size([1, 256, 14, 14])\n",
      "torch.Size([1, 50176])\n",
      "torch.Size([1, 3072])\n",
      "torch.Size([1, 3, 1024])\n",
      "[057/00000] val_loss: 0.000\n",
      "0\n",
      "torch.Size([4, 224, 224])\n",
      "torch.Size([1, 256, 14, 14])\n",
      "torch.Size([1, 50176])\n",
      "torch.Size([1, 3072])\n",
      "torch.Size([1, 3, 1024])\n",
      "prediction shape:  torch.Size([1, 3, 1024])\n",
      "0\n",
      "torch.Size([4, 224, 224])\n",
      "torch.Size([1, 4, 224, 224])\n",
      "torch.Size([1, 256, 14, 14])\n",
      "torch.Size([1, 50176])\n",
      "torch.Size([1, 3072])\n",
      "torch.Size([1, 3, 1024])\n",
      "[058/00000] val_loss: 0.000\n",
      "0\n",
      "torch.Size([4, 224, 224])\n",
      "torch.Size([1, 256, 14, 14])\n",
      "torch.Size([1, 50176])\n",
      "torch.Size([1, 3072])\n",
      "torch.Size([1, 3, 1024])\n",
      "prediction shape:  torch.Size([1, 3, 1024])\n",
      "0\n",
      "torch.Size([4, 224, 224])\n",
      "torch.Size([1, 4, 224, 224])\n",
      "torch.Size([1, 256, 14, 14])\n",
      "torch.Size([1, 50176])\n",
      "torch.Size([1, 3072])\n",
      "torch.Size([1, 3, 1024])\n",
      "[059/00000] val_loss: 0.000\n"
     ]
    },
    {
     "data": {
      "text/html": [
       "Waiting for W&B process to finish... <strong style=\"color:green\">(success).</strong>"
      ],
      "text/plain": [
       "<IPython.core.display.HTML object>"
      ]
     },
     "metadata": {},
     "output_type": "display_data"
    },
    {
     "data": {
      "application/vnd.jupyter.widget-view+json": {
       "model_id": "",
       "version_major": 2,
       "version_minor": 0
      },
      "text/plain": [
       "VBox(children=(Label(value='0.001 MB of 0.001 MB uploaded (0.000 MB deduped)\\r'), FloatProgress(value=1.0, max…"
      ]
     },
     "metadata": {},
     "output_type": "display_data"
    },
    {
     "data": {
      "text/html": [
       "<style>\n",
       "    table.wandb td:nth-child(1) { padding: 0 10px; text-align: left ; width: auto;} td:nth-child(2) {text-align: left ; width: 100%}\n",
       "    .wandb-row { display: flex; flex-direction: row; flex-wrap: wrap; justify-content: flex-start; width: 100% }\n",
       "    .wandb-col { display: flex; flex-direction: column; flex-basis: 100%; flex: 1; padding: 10px; }\n",
       "    </style>\n",
       "<div class=\"wandb-row\"><div class=\"wandb-col\"><h3>Run history:</h3><br/><table class=\"wandb\"><tr><td>train_loss</td><td>███▇▇▇▇▆▆▆▅▅▄▄▄▃▃▃▂▂▂▂▂▂▁▁▁▁▁▁▁▁▁▁▁▁▁▁▁▁</td></tr><tr><td>val_loss</td><td>███▇▇▇▆▆▆▅▅▅▄▄▃▃▃▃▂▂▂▂▂▂▁▁▁▁▁▁▁▁▁▁▁▁▁▁▁▁</td></tr></table><br/></div><div class=\"wandb-col\"><h3>Run summary:</h3><br/><table class=\"wandb\"><tr><td>train_loss</td><td>0.00016</td></tr><tr><td>val_loss</td><td>0.00014</td></tr></table><br/></div></div>"
      ],
      "text/plain": [
       "<IPython.core.display.HTML object>"
      ]
     },
     "metadata": {},
     "output_type": "display_data"
    },
    {
     "data": {
      "text/html": [
       "Synced <strong style=\"color:#cdcd00\">tough-bee-22</strong>: <a href=\"https://wandb.ai/varsha_r/recon_run/runs/2ftv28c2\" target=\"_blank\">https://wandb.ai/varsha_r/recon_run/runs/2ftv28c2</a><br/>Synced 5 W&B file(s), 0 media file(s), 0 artifact file(s) and 0 other file(s)"
      ],
      "text/plain": [
       "<IPython.core.display.HTML object>"
      ]
     },
     "metadata": {},
     "output_type": "display_data"
    },
    {
     "data": {
      "text/html": [
       "Find logs at: <code>./wandb/run-20220706_223114-2ftv28c2/logs</code>"
      ],
      "text/plain": [
       "<IPython.core.display.HTML object>"
      ]
     },
     "metadata": {},
     "output_type": "display_data"
    }
   ],
   "source": [
    "from src.training import train_recon\n",
    "config = {\n",
    "     'category' :  '02691156',\n",
    "    'experiment_name': 'recon_overfitting',\n",
    "    'device': 'cpu',                      # change this to cpu if you do not have a GPU\n",
    "    'is_overfit': True,                      # True since we're doing overfitting\n",
    "    'batch_size': 2,\n",
    "    'resume_ckpt': None,\n",
    "    'learning_rate': 0.0005,\n",
    "    'max_epochs': 60,\n",
    "    'print_every_n': 1,\n",
    "    'validate_every_n': 1,\n",
    "}\n",
    "\n",
    "train_recon.train(config)  # should be able to get ~0 loss, 100% accuracy"
   ]
  },
  {
   "cell_type": "code",
   "execution_count": 45,
   "metadata": {},
   "outputs": [
    {
     "data": {
      "text/plain": [
       "ReconstructionNet(\n",
       "  (relu): ReLU()\n",
       "  (cnn1): Conv2d(4, 32, kernel_size=(3, 3), stride=(2, 2), padding=(1, 1))\n",
       "  (cnn2): Conv2d(32, 64, kernel_size=(3, 3), stride=(2, 2), padding=(1, 1))\n",
       "  (cnn3): Conv2d(64, 128, kernel_size=(3, 3), stride=(2, 2), padding=(1, 1))\n",
       "  (cnn4): Conv2d(128, 256, kernel_size=(3, 3), stride=(2, 2), padding=(1, 1))\n",
       "  (linear1): Linear(in_features=50176, out_features=128, bias=True)\n",
       "  (linear2): Linear(in_features=128, out_features=128, bias=True)\n",
       "  (linear3): Linear(in_features=128, out_features=3072, bias=True)\n",
       ")"
      ]
     },
     "execution_count": 45,
     "metadata": {},
     "output_type": "execute_result"
    }
   ],
   "source": [
    "model = ReconstructionNet()\n",
    "ckpt = f'src/runs/{config[\"experiment_name\"]}/model_best.ckpt'\n",
    "model.load_state_dict(torch.load(ckpt, map_location='cpu'))\n",
    "model.eval()"
   ]
  },
  {
   "cell_type": "code",
   "execution_count": 46,
   "metadata": {},
   "outputs": [
    {
     "name": "stdout",
     "output_type": "stream",
     "text": [
      "torch.Size([2, 256, 14, 14])\n",
      "torch.Size([2, 50176])\n",
      "torch.Size([2, 3072])\n",
      "torch.Size([2, 3, 1024])\n",
      "----------------------------------------------------------------\n",
      "        Layer (type)               Output Shape         Param #\n",
      "================================================================\n",
      "            Conv2d-1         [-1, 32, 112, 112]           1,184\n",
      "              ReLU-2         [-1, 32, 112, 112]               0\n",
      "            Conv2d-3           [-1, 64, 56, 56]          18,496\n",
      "              ReLU-4           [-1, 64, 56, 56]               0\n",
      "            Conv2d-5          [-1, 128, 28, 28]          73,856\n",
      "              ReLU-6          [-1, 128, 28, 28]               0\n",
      "            Conv2d-7          [-1, 256, 14, 14]         295,168\n",
      "              ReLU-8          [-1, 256, 14, 14]               0\n",
      "            Linear-9                  [-1, 128]       6,422,656\n",
      "             ReLU-10                  [-1, 128]               0\n",
      "           Linear-11                  [-1, 128]          16,512\n",
      "             ReLU-12                  [-1, 128]               0\n",
      "           Linear-13                 [-1, 3072]         396,288\n",
      "================================================================\n",
      "Total params: 7,224,160\n",
      "Trainable params: 7,224,160\n",
      "Non-trainable params: 0\n",
      "----------------------------------------------------------------\n",
      "Input size (MB): 0.77\n",
      "Forward/backward pass size (MB): 11.51\n",
      "Params size (MB): 27.56\n",
      "Estimated Total Size (MB): 39.84\n",
      "----------------------------------------------------------------\n"
     ]
    }
   ],
   "source": [
    "summary(model, (4,224,224))"
   ]
  },
  {
   "cell_type": "code",
   "execution_count": 28,
   "metadata": {},
   "outputs": [],
   "source": [
    "import torchvision.transforms as transforms\n",
    "import cv2\n",
    "from os.path import join, abspath, basename"
   ]
  },
  {
   "cell_type": "code",
   "execution_count": 30,
   "metadata": {},
   "outputs": [],
   "source": [
    "rendered_path = \"src/data/ShapeNet_rendered\"  \n",
    "transform = transforms.Compose([\n",
    "            transforms.ToTensor()\n",
    "        ])\n",
    "\n",
    "\n",
    "img_path = join(rendered_path , config['category']+'/f7110ecac70994a83820d8f180caa23a/render_0.png')\n",
    "rgb_image =  cv2.imread(img_path, cv2.IMREAD_UNCHANGED)"
   ]
  },
  {
   "cell_type": "code",
   "execution_count": 47,
   "metadata": {},
   "outputs": [
    {
     "name": "stdout",
     "output_type": "stream",
     "text": [
      "torch.Size([4, 224, 224])\n"
     ]
    }
   ],
   "source": [
    "input_tensor = transform(rgb_image)\n",
    "print(input_tensor.shape)"
   ]
  },
  {
   "cell_type": "code",
   "execution_count": 50,
   "metadata": {},
   "outputs": [
    {
     "name": "stdout",
     "output_type": "stream",
     "text": [
      "torch.Size([1, 256, 14, 14])\n",
      "torch.Size([1, 50176])\n",
      "before view:  torch.Size([1, 3072])\n",
      "after view:  torch.Size([1, 3, 1024])\n",
      "torch.Size([1, 3, 1024])\n"
     ]
    }
   ],
   "source": [
    "prediction = model(torch.unsqueeze(data['img_rgb'], 0))\n",
    "print(prediction.shape)"
   ]
  },
  {
   "cell_type": "code",
   "execution_count": 52,
   "metadata": {},
   "outputs": [
    {
     "name": "stdout",
     "output_type": "stream",
     "text": [
      "(1024, 3)\n"
     ]
    },
    {
     "data": {
      "text/plain": [
       "True"
      ]
     },
     "execution_count": 52,
     "metadata": {},
     "output_type": "execute_result"
    }
   ],
   "source": [
    "import open3d as o3d\n",
    "import torch\n",
    "pcd = o3d.geometry.PointCloud()\n",
    "\n",
    "data_pcl = torch.reshape(prediction, ( 1024, 3)).detach().numpy()\n",
    "print(data_pcl.shape)\n",
    "\n",
    "pcd.points = o3d.utility.Vector3dVector(data_pcl)\n",
    "o3d.io.write_point_cloud(\"./data_1.ply\", pcd)"
   ]
  },
  {
   "cell_type": "code",
   "execution_count": 17,
   "metadata": {},
   "outputs": [],
   "source": [
    "items = np.load('src/data/splits/shapenet/images_list_02691156_train.npy', allow_pickle=True)"
   ]
  },
  {
   "cell_type": "code",
   "execution_count": 18,
   "metadata": {},
   "outputs": [],
   "source": [
    "items[:1].dump('src/data/splits/shapenet/images_list_02691156_overfit.npy')"
   ]
  },
  {
   "cell_type": "code",
   "execution_count": 19,
   "metadata": {},
   "outputs": [
    {
     "name": "stdout",
     "output_type": "stream",
     "text": [
      "Requirement already satisfied: wandb in /home/varsha/.local/lib/python3.8/site-packages (0.12.21)\n",
      "Requirement already satisfied: protobuf<4.0dev,>=3.12.0 in /home/varsha/.local/lib/python3.8/site-packages (from wandb) (3.20.0)\n",
      "Requirement already satisfied: setproctitle in /home/varsha/.local/lib/python3.8/site-packages (from wandb) (1.2.3)\n",
      "Requirement already satisfied: PyYAML in /home/varsha/.local/lib/python3.8/site-packages (from wandb) (5.4.1)\n",
      "Requirement already satisfied: docker-pycreds>=0.4.0 in /home/varsha/.local/lib/python3.8/site-packages (from wandb) (0.4.0)\n",
      "Requirement already satisfied: promise<3,>=2.0 in /home/varsha/.local/lib/python3.8/site-packages (from wandb) (2.3)\n",
      "Requirement already satisfied: requests<3,>=2.0.0 in /usr/lib/python3/dist-packages (from wandb) (2.22.0)\n",
      "Requirement already satisfied: sentry-sdk>=1.0.0 in /home/varsha/.local/lib/python3.8/site-packages (from wandb) (1.6.0)\n",
      "Requirement already satisfied: Click!=8.0.0,>=7.0 in /home/varsha/.local/lib/python3.8/site-packages (from wandb) (8.0.3)\n",
      "Requirement already satisfied: six>=1.13.0 in /usr/lib/python3/dist-packages (from wandb) (1.14.0)\n",
      "Requirement already satisfied: pathtools in /home/varsha/.local/lib/python3.8/site-packages (from wandb) (0.1.2)\n",
      "Requirement already satisfied: setuptools in /usr/lib/python3/dist-packages (from wandb) (45.2.0)\n",
      "Requirement already satisfied: shortuuid>=0.5.0 in /home/varsha/.local/lib/python3.8/site-packages (from wandb) (1.0.9)\n",
      "Requirement already satisfied: GitPython>=1.0.0 in /home/varsha/.local/lib/python3.8/site-packages (from wandb) (3.1.27)\n",
      "Requirement already satisfied: psutil>=5.0.0 in /home/varsha/.local/lib/python3.8/site-packages (from wandb) (5.9.1)\n",
      "Requirement already satisfied: certifi in /home/varsha/.local/lib/python3.8/site-packages (from sentry-sdk>=1.0.0->wandb) (2021.10.8)\n",
      "Requirement already satisfied: urllib3>=1.10.0 in /usr/lib/python3/dist-packages (from sentry-sdk>=1.0.0->wandb) (1.25.8)\n",
      "Requirement already satisfied: gitdb<5,>=4.0.1 in /home/varsha/.local/lib/python3.8/site-packages (from GitPython>=1.0.0->wandb) (4.0.9)\n",
      "Requirement already satisfied: smmap<6,>=3.0.1 in /home/varsha/.local/lib/python3.8/site-packages (from gitdb<5,>=4.0.1->GitPython>=1.0.0->wandb) (5.0.0)\n",
      "Note: you may need to restart the kernel to use updated packages.\n"
     ]
    }
   ],
   "source": [
    "%pip install wandb"
   ]
  },
  {
   "cell_type": "code",
   "execution_count": null,
   "metadata": {},
   "outputs": [],
   "source": []
  }
 ],
 "metadata": {
  "kernelspec": {
   "display_name": "Python 3",
   "language": "python",
   "name": "python3"
  },
  "language_info": {
   "codemirror_mode": {
    "name": "ipython",
    "version": 3
   },
   "file_extension": ".py",
   "mimetype": "text/x-python",
   "name": "python",
   "nbconvert_exporter": "python",
   "pygments_lexer": "ipython3",
   "version": "3.8.10"
  }
 },
 "nbformat": 4,
 "nbformat_minor": 5
}
