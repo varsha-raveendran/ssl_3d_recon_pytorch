{
 "cells": [
  {
   "cell_type": "code",
   "execution_count": 3,
   "id": "c35eda18",
   "metadata": {},
   "outputs": [],
   "source": [
    "%load_ext autoreload\n",
    "%autoreload 2\n",
    "import os\n",
    "os.environ[\"KMP_DUPLICATE_LIB_OK\"]=\"TRUE\"\n",
    "import numpy as np\n",
    "import matplotlib as plt\n",
    "import torch"
   ]
  },
  {
   "cell_type": "code",
   "execution_count": 12,
   "id": "8fe8681f",
   "metadata": {},
   "outputs": [],
   "source": [
    "import loss_functions as lf"
   ]
  },
  {
   "cell_type": "code",
   "execution_count": 13,
   "id": "65686c5a",
   "metadata": {},
   "outputs": [
    {
     "data": {
      "text/plain": [
       "42"
      ]
     },
     "execution_count": 13,
     "metadata": {},
     "output_type": "execute_result"
    }
   ],
   "source": [
    "lf.test_loss()"
   ]
  },
  {
   "cell_type": "code",
   "execution_count": 14,
   "id": "55e1905f",
   "metadata": {},
   "outputs": [],
   "source": [
    "a = np.random.rand(2,64,64)\n",
    "b = np.random.rand(2,64,64)\n",
    "a = torch.tensor(a)\n",
    "b = torch.tensor(b)"
   ]
  },
  {
   "cell_type": "code",
   "execution_count": 15,
   "id": "5dd7e336",
   "metadata": {},
   "outputs": [
    {
     "data": {
      "text/plain": [
       "(tensor(10.8178, dtype=torch.float64),\n",
       " tensor(253807.8823, dtype=torch.float64),\n",
       " tensor(249518.0395, dtype=torch.float64))"
      ]
     },
     "execution_count": 15,
     "metadata": {},
     "output_type": "execute_result"
    }
   ],
   "source": [
    "lf.get_img_loss(a, b, mode='l2_sq', affinity_loss=True)"
   ]
  },
  {
   "cell_type": "code",
   "execution_count": null,
   "id": "e2d36008",
   "metadata": {},
   "outputs": [],
   "source": []
  }
 ],
 "metadata": {
  "kernelspec": {
   "display_name": "Python 3 (ipykernel)",
   "language": "python",
   "name": "python3"
  },
  "language_info": {
   "codemirror_mode": {
    "name": "ipython",
    "version": 3
   },
   "file_extension": ".py",
   "mimetype": "text/x-python",
   "name": "python",
   "nbconvert_exporter": "python",
   "pygments_lexer": "ipython3",
   "version": "3.8.8"
  }
 },
 "nbformat": 4,
 "nbformat_minor": 5
}
